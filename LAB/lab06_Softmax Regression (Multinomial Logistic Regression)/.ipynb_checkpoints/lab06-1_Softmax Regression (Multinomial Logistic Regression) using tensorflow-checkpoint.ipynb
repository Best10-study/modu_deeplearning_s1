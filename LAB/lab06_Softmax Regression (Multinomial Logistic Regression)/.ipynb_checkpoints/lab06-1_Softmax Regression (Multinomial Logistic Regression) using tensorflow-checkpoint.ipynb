{
 "cells": [
  {
   "cell_type": "markdown",
   "metadata": {},
   "source": [
    "# 6. Lab06 Softmax Regression (Multinomial Logistic Regression)\n",
    "#### 2018.09.26 (수)"
   ]
  },
  {
   "cell_type": "markdown",
   "metadata": {},
   "source": [
    "### Hypothesis\n",
    "> Softmax function을 이용하여 예측의 결과값을 확률로 변환시켜 준다.\n",
    "> \n",
    "이의 계산 / 예측의 결과값을 모두 합친 것으로, class별 예측값을 나누어주면 끝.\n",
    ">\n",
    "이후, 도출된 확률값을 one-hot encoding 을 진행해주면 우리가 원하는  H(x)가 도출!\n",
    "\n",
    "![lec06_4](../../img/lec06_10.png)\n",
    "![lec06_4](../../img/lec06_5.png)"
   ]
  },
  {
   "cell_type": "markdown",
   "metadata": {},
   "source": [
    "### Cost function : cross entropy\n",
    "$  L = \\frac{1}{N}\\displaystyle\\sum_i D(S(WX_i+b),L_i) $\n",
    "\n",
    "이때, $D(S,L) = -\\displaystyle\\sum_i L_ilog(S_i)$\n",
    "\n",
    "__Gradient descent step__\n",
    "\n",
    "$-\\alpha \\Delta L (W_1,W_2)$\n",
    "\n",
    "![lec06_11](../../img/lec06_11.png)"
   ]
  },
  {
   "cell_type": "code",
   "execution_count": null,
   "metadata": {
    "collapsed": true
   },
   "outputs": [],
   "source": []
  }
 ],
 "metadata": {
  "kernelspec": {
   "display_name": "Python 3",
   "language": "python",
   "name": "python3"
  },
  "language_info": {
   "codemirror_mode": {
    "name": "ipython",
    "version": 3
   },
   "file_extension": ".py",
   "mimetype": "text/x-python",
   "name": "python",
   "nbconvert_exporter": "python",
   "pygments_lexer": "ipython3",
   "version": "3.6.0"
  }
 },
 "nbformat": 4,
 "nbformat_minor": 2
}
