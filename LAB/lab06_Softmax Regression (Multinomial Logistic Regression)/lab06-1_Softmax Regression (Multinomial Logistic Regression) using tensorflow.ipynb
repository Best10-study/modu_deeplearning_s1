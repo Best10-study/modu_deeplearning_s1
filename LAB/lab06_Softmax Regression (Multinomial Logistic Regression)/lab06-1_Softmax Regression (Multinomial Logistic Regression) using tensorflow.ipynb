{
 "cells": [
  {
   "cell_type": "markdown",
   "metadata": {},
   "source": [
    "# 6-1. Lab06-1 Softmax Regression (Multinomial Logistic Regression)\n",
    "#### 2018.09.26 (수)"
   ]
  },
  {
   "cell_type": "markdown",
   "metadata": {},
   "source": [
    "### Hypothesis\n",
    "> Softmax function을 이용하여 예측의 결과값을 확률로 변환시켜 준다.\n",
    "> \n",
    "이의 계산 / 예측의 결과값을 모두 합친 것으로, class별 예측값을 나누어주면 끝.\n",
    ">\n",
    "이후, 도출된 확률값을 one-hot encoding 을 진행해주면 우리가 원하는  H(x)가 도출!\n",
    "\n",
    "![lec06_4](../../img/lec06_10.png)\n",
    "![lec06_4](../../img/lec06_5.png)"
   ]
  },
  {
   "cell_type": "markdown",
   "metadata": {},
   "source": [
    "### Cost function : cross entropy\n",
    "$  L = \\frac{1}{N}\\displaystyle\\sum_i D(S(WX_i+b),L_i) $\n",
    "\n",
    "이때, $D(S,L) = -\\displaystyle\\sum_i L_ilog(S_i)$\n",
    "\n",
    "__Gradient descent step__\n",
    "\n",
    "$-\\alpha \\Delta L (W_1,W_2)$\n",
    "\n",
    "![lec06_11](../../img/lec06_11.png)"
   ]
  },
  {
   "cell_type": "code",
   "execution_count": 1,
   "metadata": {
    "collapsed": false
   },
   "outputs": [
    {
     "name": "stderr",
     "output_type": "stream",
     "text": [
      "/Users/Choi-seonyeol/anaconda3/lib/python3.6/importlib/_bootstrap.py:205: RuntimeWarning: compiletime version 3.5 of module 'tensorflow.python.framework.fast_tensor_util' does not match runtime version 3.6\n",
      "  return f(*args, **kwds)\n"
     ]
    }
   ],
   "source": [
    "import tensorflow as tf"
   ]
  },
  {
   "cell_type": "code",
   "execution_count": 7,
   "metadata": {
    "collapsed": false
   },
   "outputs": [
    {
     "name": "stdout",
     "output_type": "stream",
     "text": [
      "0 2.7933955\n",
      "200 0.6827578\n",
      "400 0.57640505\n",
      "600 0.4869278\n",
      "800 0.3990815\n",
      "1000 0.3100286\n",
      "1200 0.23303121\n",
      "1400 0.21028756\n",
      "1600 0.1923558\n",
      "1800 0.17712557\n",
      "2000 0.16404395\n",
      "[[5.34981815e-03 9.94638264e-01 1.19497745e-05]] [1]\n",
      "--------------------\n",
      "[[0.86527693 0.11708771 0.01763537]] [0]\n",
      "--------------------\n",
      "[[3.1427756e-08 4.1256013e-04 9.9958748e-01]] [2]\n",
      "--------------------\n",
      "[[5.34981815e-03 9.94638264e-01 1.19497745e-05]\n",
      " [8.65276933e-01 1.17087707e-01 1.76353678e-02]\n",
      " [3.14277564e-08 4.12560126e-04 9.99587476e-01]] [1 0 2]\n"
     ]
    }
   ],
   "source": [
    "x_data = [[1,2,1,1],[2,1,3,2],[3,1,3,4],[4,1,5,5],[1,7,5,5,],[1,2,5,6],[1,6,6,6],[1,7,7,7]]\n",
    "y_data = [[0,0,1],[0,0,1],[0,0,1],[0,1,0],[0,1,0],[0,1,0],[1,0,0],[1,0,0]]\n",
    "# y_data는 one-hot encoing을 통해 class를 구분하였다.\n",
    "\n",
    "X = tf.placeholder(\"float\",[None, 4])\n",
    "Y = tf.placeholder(\"float\",[None, 3])\n",
    "nb_classes = 3 \n",
    "# Class의 개수를 잘 지정해주어야 한다. 즉 몇개로 구분되어 지는지.\n",
    "\n",
    "W = tf.Variable(tf.random_normal([4, nb_classes]), name = \"weight\")\n",
    "b = tf.Variable(tf.random_normal([nb_classes]),name = \"bias\")\n",
    "\n",
    "# tf.nn.softmax computes softmax activations\n",
    "# softmax = exp(Logits) / reduce_sum(exp(logits),dim)\n",
    "hypothesis = tf.nn.softmax(tf.matmul(X, W) + b)\n",
    "\n",
    "# Cross entropy cost/Loss\n",
    "cost = tf.reduce_mean(-tf.reduce_sum(Y * tf.log(hypothesis),axis = 1 ))\n",
    "optimizer = tf.train.GradientDescentOptimizer(learning_rate = 0.1).minimize(cost)\n",
    "\n",
    "# Launch graph\n",
    "with tf.Session() as sess:\n",
    "    sess.run(tf.global_variables_initializer())\n",
    "    for step in range(2001):\n",
    "        sess.run(optimizer, feed_dict = {X: x_data, Y: y_data})\n",
    "        if step % 200 == 0:\n",
    "            print(step, sess.run(cost, feed_dict={X:x_data, Y: y_data}))\n",
    "    \n",
    "    # Test & one-hot encoding\n",
    "    # 새로운 값을 주어주고, 이를 예측하도록 해보기.\n",
    "    a = sess.run(hypothesis, feed_dict={X: [[1,11,7,9]]})\n",
    "    print(a, sess.run(tf.argmax(a,1))) # argmax -> \"몇번째에 있는 값이 가장 큰 값인가요? -> max_index 도출\"\n",
    "    print(\"-\"*20)\n",
    "    # 도출된 a 값은 각각의 arg가 될 확률로 도출된다 !\n",
    "\n",
    "    b = sess.run(hypothesis, feed_dict={X: [[1, 3, 4, 3]]})\n",
    "    print(b, sess.run(tf.argmax(b,1)))\n",
    "    print(\"-\"*20)\n",
    "\n",
    "\n",
    "    c = sess.run(hypothesis, feed_dict={X: [[1, 1, 0, 1]]})\n",
    "    print(c, sess.run(tf.argmax(c,1)))\n",
    "    print(\"-\"*20)\n",
    "\n",
    "\n",
    "    all = sess.run(hypothesis, feed_dict={X: [[1,11,7,9],[1, 3, 4, 3],[1, 1, 0, 1]]})\n",
    "    print(all, sess.run(tf.argmax(all,1)))"
   ]
  },
  {
   "cell_type": "code",
   "execution_count": null,
   "metadata": {
    "collapsed": true
   },
   "outputs": [],
   "source": []
  }
 ],
 "metadata": {
  "kernelspec": {
   "display_name": "Python 3",
   "language": "python",
   "name": "python3"
  },
  "language_info": {
   "codemirror_mode": {
    "name": "ipython",
    "version": 3
   },
   "file_extension": ".py",
   "mimetype": "text/x-python",
   "name": "python",
   "nbconvert_exporter": "python",
   "pygments_lexer": "ipython3",
   "version": "3.6.0"
  }
 },
 "nbformat": 4,
 "nbformat_minor": 2
}
