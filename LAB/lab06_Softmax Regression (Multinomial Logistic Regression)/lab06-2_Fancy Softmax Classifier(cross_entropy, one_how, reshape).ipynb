{
 "cells": [
  {
   "cell_type": "markdown",
   "metadata": {},
   "source": [
    "# Lab06-2 Fancy Softmax Classifier(cross_entropy, one_how, reshape)\n",
    "#### 2018.09.26(수)\n",
    "\n",
    "Lab06-1 에서 구현한 Softmax Classifier에 대해서, \n",
    "Corss_entropy, one_hot, reshape을 이용하여 더욱 Fancy하게 구현해 보기."
   ]
  },
  {
   "cell_type": "markdown",
   "metadata": {},
   "source": [
    "## Softmax_corss_entropy_with_logits\n",
    "~~~\n",
    "logits = tf.matmul(X, W) + b\n",
    "hypothesis = tf.nn.softmax(logits)\n",
    "~~~\n",
    "\n",
    "~~~\n",
    "## 1. Cross entropy cost/Loss##\n",
    "cost = tf.reduece_mean(-tf.reduece_sum(Y * tf.log(hypothesis),axis = 1))\n",
    "이때, y 는 one-hot으로 주어짐\n",
    "\n",
    "## 2. Cross entropy cost/Loss ##\n",
    "cost_i = tf.nn.softmax_cross_entropy_with_logits(logits = logits, labels = Y_one_hot) # logits를 넣는다는걸 반드시 기억!\n",
    "cost = tf.reduce_mean(cost_i)\n",
    "~~~"
   ]
  },
  {
   "cell_type": "code",
   "execution_count": 2,
   "metadata": {
    "collapsed": false
   },
   "outputs": [],
   "source": [
    "import tensorflow as tf\n",
    "import numpy as np"
   ]
  },
  {
   "cell_type": "code",
   "execution_count": 5,
   "metadata": {
    "collapsed": true
   },
   "outputs": [],
   "source": [
    "# Predicting animal type based based on various features\n",
    "xy = np.loadtxt('data-04-zoo.csv',delimiter = ',', dtype = np.float)\n",
    "x_data = xy[:,0:-1]\n",
    "y_data = xy[:,[-1]]\n",
    "# 이때. Y_data의 raw data를 보면 0~ 6사이의 값이다-> 아직 one-hot encoding이 되어있지 않다."
   ]
  },
  {
   "cell_type": "code",
   "execution_count": 13,
   "metadata": {
    "collapsed": false
   },
   "outputs": [],
   "source": [
    "nb_classes = 7 # 0 ~6의 숫자.\n",
    "Y = tf.placeholder(tf.int32, [None, 1]) # 0 ~ 6 ,  shape = (?,1)\n",
    "Y_one_hot = tf.one_hot(Y, nb_classes) # one hot shape = (?, 1, 7)\n",
    "Y_one_hot = tf.reshape(Y_one_hot, [-1,nb_classes]) # shape = (?,7)\n",
    "\n",
    "# 여기서 주의할 것은, 만약 rank N으로 index를 하여 주게되면 rank N+1 로 output이 나오게 된다.\n",
    "# 즉, 새로운 axis가 발생함\n",
    "## If the input inices is rank N, the output will have rank N+1, the new axis is created at dimension axis ( default : the new axis is appended at the end )\n",
    "# 예를 들면, 2차원 -> [[0],[3]]을 ont_hot 해주면, [[[1,0,0,0,0,0,0],[0,0,0,1,0,0,0]]]으로 output으로 나온다.\n",
    "# 이를 다시 처리해주기 위해서, reshape을 해준다 -> 우리가 원하는 모양인, [[1,0,0,0,0,0,0],[0,0,0,1,0,0,0]] 으로 바꿔주기 위해서!\n",
    "# reshape에 -1을 넣는다는건, 알아서 바꾸라는 소리. 여기서 -1은 데이터의 개수가 될 것."
   ]
  },
  {
   "cell_type": "markdown",
   "metadata": {},
   "source": [
    "## 전체 코드\n"
   ]
  },
  {
   "cell_type": "code",
   "execution_count": 16,
   "metadata": {
    "collapsed": false
   },
   "outputs": [],
   "source": [
    "# Predicting animal type based based on various features\n",
    "xy = np.loadtxt('data-04-zoo.csv',delimiter = ',', dtype = np.float)\n",
    "x_data = xy[:,0:-1]\n",
    "y_data = xy[:,[-1]]\n",
    "\n",
    "nb_classes = 7 # 0 ~ 6\n",
    "\n",
    "X = tf.placeholder(tf.float32, [None, 16])\n",
    "Y = tf.placeholder(tf.int32, [None, 1]) # 0 ~ 6\n",
    "\n",
    "Y_one_hot = tf.one_hot(Y, nb_classes)\n",
    "Y_one_hot = tf.reshape(Y_one_hot, [-1, nb_classes])\n",
    "\n",
    "W = tf.Variable(tf.random_normal([16,nb_classes]),name = \"weight\")\n",
    "b = tf.Variable(tf.random_normal([nb_classes]),name = \"bias\")\n",
    "\n",
    "# tf.nn.softmax computes softmax activations\n",
    "# softmax = exp(logits) / reduce_sum(exp(logits),dim)\n",
    "\n",
    "logits = tf.matmul(X, W) + b\n",
    "hypothesis = tf.nn.softmax(logits)\n",
    "\n",
    "# Cross entropy cost/Loss\n",
    "cost_i = tf.nn.softmax_cross_entropy_with_logits_v2(logits = logits, labels = Y_one_hot)\n",
    "\n",
    "cost = tf.reduce_mean(cost_i)\n",
    "optimizer = tf.train.GradientDescentOptimizer(learning_rate = 0.1).minimize(cost)"
   ]
  },
  {
   "cell_type": "code",
   "execution_count": 19,
   "metadata": {
    "collapsed": false
   },
   "outputs": [
    {
     "name": "stdout",
     "output_type": "stream",
     "text": [
      "Step:     0\tLoss: 4.043\tAcc: 39.60%\n",
      "Step:   100\tLoss: 0.651\tAcc: 87.13%\n",
      "Step:   200\tLoss: 0.412\tAcc: 88.12%\n",
      "Step:   300\tLoss: 0.303\tAcc: 89.11%\n",
      "Step:   400\tLoss: 0.237\tAcc: 91.09%\n",
      "Step:   500\tLoss: 0.193\tAcc: 95.05%\n",
      "Step:   600\tLoss: 0.163\tAcc: 99.01%\n",
      "Step:   700\tLoss: 0.140\tAcc: 99.01%\n",
      "Step:   800\tLoss: 0.122\tAcc: 99.01%\n",
      "Step:   900\tLoss: 0.109\tAcc: 99.01%\n",
      "Step:  1000\tLoss: 0.098\tAcc: 100.00%\n",
      "Step:  1100\tLoss: 0.090\tAcc: 100.00%\n",
      "Step:  1200\tLoss: 0.082\tAcc: 100.00%\n",
      "Step:  1300\tLoss: 0.076\tAcc: 100.00%\n",
      "Step:  1400\tLoss: 0.071\tAcc: 100.00%\n",
      "Step:  1500\tLoss: 0.066\tAcc: 100.00%\n",
      "Step:  1600\tLoss: 0.062\tAcc: 100.00%\n",
      "Step:  1700\tLoss: 0.059\tAcc: 100.00%\n",
      "Step:  1800\tLoss: 0.056\tAcc: 100.00%\n",
      "Step:  1900\tLoss: 0.053\tAcc: 100.00%\n",
      "Step:  2000\tLoss: 0.051\tAcc: 100.00%\n",
      "[True] Prediction: 0 True Y: 0\n",
      "[True] Prediction: 0 True Y: 0\n",
      "[True] Prediction: 3 True Y: 3\n",
      "[True] Prediction: 0 True Y: 0\n",
      "[True] Prediction: 0 True Y: 0\n",
      "[True] Prediction: 0 True Y: 0\n",
      "[True] Prediction: 0 True Y: 0\n",
      "[True] Prediction: 3 True Y: 3\n",
      "[True] Prediction: 3 True Y: 3\n",
      "[True] Prediction: 0 True Y: 0\n",
      "[True] Prediction: 0 True Y: 0\n",
      "[True] Prediction: 1 True Y: 1\n",
      "[True] Prediction: 3 True Y: 3\n",
      "[True] Prediction: 6 True Y: 6\n",
      "[True] Prediction: 6 True Y: 6\n",
      "[True] Prediction: 6 True Y: 6\n",
      "[True] Prediction: 1 True Y: 1\n",
      "[True] Prediction: 0 True Y: 0\n",
      "[True] Prediction: 3 True Y: 3\n",
      "[True] Prediction: 0 True Y: 0\n",
      "[True] Prediction: 1 True Y: 1\n",
      "[True] Prediction: 1 True Y: 1\n",
      "[True] Prediction: 0 True Y: 0\n",
      "[True] Prediction: 1 True Y: 1\n",
      "[True] Prediction: 5 True Y: 5\n",
      "[True] Prediction: 4 True Y: 4\n",
      "[True] Prediction: 4 True Y: 4\n",
      "[True] Prediction: 0 True Y: 0\n",
      "[True] Prediction: 0 True Y: 0\n",
      "[True] Prediction: 0 True Y: 0\n",
      "[True] Prediction: 5 True Y: 5\n",
      "[True] Prediction: 0 True Y: 0\n",
      "[True] Prediction: 0 True Y: 0\n",
      "[True] Prediction: 1 True Y: 1\n",
      "[True] Prediction: 3 True Y: 3\n",
      "[True] Prediction: 0 True Y: 0\n",
      "[True] Prediction: 0 True Y: 0\n",
      "[True] Prediction: 1 True Y: 1\n",
      "[True] Prediction: 3 True Y: 3\n",
      "[True] Prediction: 5 True Y: 5\n",
      "[True] Prediction: 5 True Y: 5\n",
      "[True] Prediction: 1 True Y: 1\n",
      "[True] Prediction: 5 True Y: 5\n",
      "[True] Prediction: 1 True Y: 1\n",
      "[True] Prediction: 0 True Y: 0\n",
      "[True] Prediction: 0 True Y: 0\n",
      "[True] Prediction: 6 True Y: 6\n",
      "[True] Prediction: 0 True Y: 0\n",
      "[True] Prediction: 0 True Y: 0\n",
      "[True] Prediction: 0 True Y: 0\n",
      "[True] Prediction: 0 True Y: 0\n",
      "[True] Prediction: 5 True Y: 5\n",
      "[True] Prediction: 4 True Y: 4\n",
      "[True] Prediction: 6 True Y: 6\n",
      "[True] Prediction: 0 True Y: 0\n",
      "[True] Prediction: 0 True Y: 0\n",
      "[True] Prediction: 1 True Y: 1\n",
      "[True] Prediction: 1 True Y: 1\n",
      "[True] Prediction: 1 True Y: 1\n",
      "[True] Prediction: 1 True Y: 1\n",
      "[True] Prediction: 3 True Y: 3\n",
      "[True] Prediction: 3 True Y: 3\n",
      "[True] Prediction: 2 True Y: 2\n",
      "[True] Prediction: 0 True Y: 0\n",
      "[True] Prediction: 0 True Y: 0\n",
      "[True] Prediction: 0 True Y: 0\n",
      "[True] Prediction: 0 True Y: 0\n",
      "[True] Prediction: 0 True Y: 0\n",
      "[True] Prediction: 0 True Y: 0\n",
      "[True] Prediction: 0 True Y: 0\n",
      "[True] Prediction: 0 True Y: 0\n",
      "[True] Prediction: 1 True Y: 1\n",
      "[True] Prediction: 6 True Y: 6\n",
      "[True] Prediction: 3 True Y: 3\n",
      "[True] Prediction: 0 True Y: 0\n",
      "[True] Prediction: 0 True Y: 0\n",
      "[True] Prediction: 2 True Y: 2\n",
      "[True] Prediction: 6 True Y: 6\n",
      "[True] Prediction: 1 True Y: 1\n",
      "[True] Prediction: 1 True Y: 1\n",
      "[True] Prediction: 2 True Y: 2\n",
      "[True] Prediction: 6 True Y: 6\n",
      "[True] Prediction: 3 True Y: 3\n",
      "[True] Prediction: 1 True Y: 1\n",
      "[True] Prediction: 0 True Y: 0\n",
      "[True] Prediction: 6 True Y: 6\n",
      "[True] Prediction: 3 True Y: 3\n",
      "[True] Prediction: 1 True Y: 1\n",
      "[True] Prediction: 5 True Y: 5\n",
      "[True] Prediction: 4 True Y: 4\n",
      "[True] Prediction: 2 True Y: 2\n",
      "[True] Prediction: 2 True Y: 2\n",
      "[True] Prediction: 3 True Y: 3\n",
      "[True] Prediction: 0 True Y: 0\n",
      "[True] Prediction: 0 True Y: 0\n",
      "[True] Prediction: 1 True Y: 1\n",
      "[True] Prediction: 0 True Y: 0\n",
      "[True] Prediction: 5 True Y: 5\n",
      "[True] Prediction: 0 True Y: 0\n",
      "[True] Prediction: 6 True Y: 6\n",
      "[True] Prediction: 1 True Y: 1\n"
     ]
    }
   ],
   "source": [
    "prediction = tf.argmax(hypothesis, 1) # 가장 높은 hypothesis를 가진 값의 index!\n",
    "correct_prediction = tf.equal(prediction, tf.argmax(Y_one_hot,1)) # 예측값과, 실제값이 맞으면 1 다르면 0\n",
    "accuracy = tf.reduce_mean(tf.cast(correct_prediction, tf.float32))\n",
    "\n",
    "# Launch graph\n",
    "with tf.Session() as sess:\n",
    "    sess.run(tf.global_variables_initializer())\n",
    "    for step in range(2001):\n",
    "        sess.run(optimizer, feed_dict = {X: x_data, Y: y_data})\n",
    "        if step % 100 == 0:\n",
    "            loss, acc = sess.run([cost,accuracy], feed_dict = {\n",
    "                X: x_data, Y: y_data})\n",
    "            print(\"Step: {:5}\\tLoss: {:.3f}\\tAcc: {:.2%}\".format(step,loss,acc))\n",
    "    # Let's see if we can predict\n",
    "    pred = sess.run(prediction, feed_dict = {X: x_data})\n",
    "    # y_data: (N,1) = flatten => (N, ) matches pred.shape\n",
    "    for p, y in zip(pred, y_data.flatten()):\n",
    "        print(\"[{}] Prediction: {} True Y: {}\".format(p==int(y),p, int(y)))\n",
    "        \n"
   ]
  },
  {
   "cell_type": "code",
   "execution_count": null,
   "metadata": {
    "collapsed": true
   },
   "outputs": [],
   "source": []
  }
 ],
 "metadata": {
  "kernelspec": {
   "display_name": "Python 3",
   "language": "python",
   "name": "python3"
  },
  "language_info": {
   "codemirror_mode": {
    "name": "ipython",
    "version": 3
   },
   "file_extension": ".py",
   "mimetype": "text/x-python",
   "name": "python",
   "nbconvert_exporter": "python",
   "pygments_lexer": "ipython3",
   "version": "3.6.0"
  }
 },
 "nbformat": 4,
 "nbformat_minor": 2
}
