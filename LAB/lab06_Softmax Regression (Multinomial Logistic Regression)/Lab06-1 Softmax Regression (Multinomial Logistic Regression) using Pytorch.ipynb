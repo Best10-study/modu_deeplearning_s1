{
 "cells": [
  {
   "cell_type": "markdown",
   "metadata": {},
   "source": [
    "# 6-1. Lab06-1 Softmax Regression (Multinomial Logistic Regression) using pytorch"
   ]
  },
  {
   "cell_type": "code",
   "execution_count": 181,
   "metadata": {
    "collapsed": true
   },
   "outputs": [],
   "source": [
    "import torch\n",
    "from torch.autograd import Variable\n",
    "from torch import nn, optim\n",
    "import numpy as np\n",
    "import torch.nn.functional as F"
   ]
  },
  {
   "cell_type": "code",
   "execution_count": 182,
   "metadata": {
    "collapsed": false
   },
   "outputs": [],
   "source": [
    "x_data = [[1,2,1,1],[2,1,3,2],[3,1,3,4],[4,1,5,5],[1,7,5,5,],[1,2,5,6],[1,6,6,6],[1,7,7,7]]\n",
    "y_data = [[0,0,1],[0,0,1],[0,0,1],[0,1,0],[0,1,0],[0,1,0],[1,0,0],[1,0,0]]\n",
    "X = Variable(torch.Tensor(x_data))\n",
    "Y = Variable(torch.Tensor(y_data))"
   ]
  },
  {
   "cell_type": "markdown",
   "metadata": {},
   "source": [
    "[Softmax_참조](https://pytorch.org/docs/stable/nn.html)"
   ]
  },
  {
   "cell_type": "code",
   "execution_count": 183,
   "metadata": {
    "collapsed": false
   },
   "outputs": [],
   "source": [
    "class Model(torch.nn.Module):\n",
    "    def __init__(self):\n",
    "        super(Model, self).__init__()\n",
    "        self.linear = nn.Linear(4, 3,bias = True) # 2 in and 1 out\n",
    "        \n",
    "    def forward(self, x):\n",
    "        x = x.view(-1, 4)\n",
    "        y_pred = self.linear(x)\n",
    "        F.softmax(y_pred)\n",
    "        return y_pred\n",
    "    \n",
    "model = Model()\n",
    "criterion = nn.CrossEntropyLoss()\n",
    "optimizer = torch.optim.SGD(model.parameters(), lr=0.01)"
   ]
  },
  {
   "cell_type": "markdown",
   "metadata": {},
   "source": [
    "### Cost function : cross entropy\n",
    "$  L = \\frac{1}{N}\\displaystyle\\sum_i D(S(WX_i+b),L_i) $\n",
    "\n",
    "이때, $D(S,L) = -\\displaystyle\\sum_i L_ilog(S_i)$\n",
    "\n",
    "__Gradient descent step__\n",
    "\n",
    "$-\\alpha \\Delta L (W_1,W_2)$\n"
   ]
  },
  {
   "cell_type": "code",
   "execution_count": 190,
   "metadata": {
    "collapsed": false,
    "scrolled": true
   },
   "outputs": [
    {
     "name": "stderr",
     "output_type": "stream",
     "text": [
      "/Users/Choi-seonyeol/anaconda3/lib/python3.6/site-packages/ipykernel_launcher.py:9: UserWarning: Implicit dimension choice for softmax has been deprecated. Change the call to include dim=X as an argument.\n",
      "  if __name__ == '__main__':\n"
     ]
    },
    {
     "name": "stdout",
     "output_type": "stream",
     "text": [
      "0 \n",
      "cost :  4.452037\n",
      "200 \n",
      "cost :  0.74597126\n",
      "400 \n",
      "cost :  0.65581053\n",
      "600 \n",
      "cost :  0.60220206\n",
      "800 \n",
      "cost :  0.56483525\n",
      "1000 \n",
      "cost :  0.53666186\n",
      "1200 \n",
      "cost :  0.51424766\n",
      "1400 \n",
      "cost :  0.4956911\n",
      "1600 \n",
      "cost :  0.47985533\n",
      "1800 \n",
      "cost :  0.46601987\n",
      "2000 \n",
      "cost :  0.453706\n",
      "2200 \n",
      "cost :  0.44258338\n",
      "2400 \n",
      "cost :  0.43241608\n",
      "2600 \n",
      "cost :  0.4230311\n",
      "2800 \n",
      "cost :  0.41429862\n",
      "3000 \n",
      "cost :  0.4061189\n",
      "3200 \n",
      "cost :  0.39841413\n",
      "3400 \n",
      "cost :  0.39112255\n",
      "3600 \n",
      "cost :  0.38419428\n",
      "3800 \n",
      "cost :  0.3775888\n",
      "4000 \n",
      "cost :  0.37127265\n",
      "4200 \n",
      "cost :  0.3652178\n",
      "4400 \n",
      "cost :  0.35940054\n",
      "4600 \n",
      "cost :  0.3538009\n",
      "4800 \n",
      "cost :  0.34840152\n",
      "5000 \n",
      "cost :  0.34318754\n",
      "5200 \n",
      "cost :  0.33814582\n",
      "5400 \n",
      "cost :  0.33326483\n",
      "5600 \n",
      "cost :  0.32853466\n",
      "5800 \n",
      "cost :  0.3239461\n",
      "6000 \n",
      "cost :  0.31949115\n",
      "6200 \n",
      "cost :  0.31516257\n",
      "6400 \n",
      "cost :  0.31095362\n",
      "6600 \n",
      "cost :  0.30685836\n",
      "6800 \n",
      "cost :  0.3028716\n",
      "7000 \n",
      "cost :  0.29898795\n",
      "7200 \n",
      "cost :  0.29520297\n",
      "7400 \n",
      "cost :  0.29151228\n",
      "7600 \n",
      "cost :  0.28791207\n",
      "7800 \n",
      "cost :  0.28439862\n",
      "8000 \n",
      "cost :  0.28096816\n",
      "8200 \n",
      "cost :  0.27761826\n",
      "8400 \n",
      "cost :  0.27434516\n",
      "8600 \n",
      "cost :  0.27114645\n",
      "8800 \n",
      "cost :  0.2680192\n",
      "9000 \n",
      "cost :  0.26496094\n",
      "9200 \n",
      "cost :  0.26196936\n",
      "9400 \n",
      "cost :  0.25904247\n",
      "9600 \n",
      "cost :  0.2561777\n",
      "9800 \n",
      "cost :  0.2533732\n",
      "10000 \n",
      "cost :  0.25062698\n"
     ]
    }
   ],
   "source": [
    "for t in range(10001):    \n",
    "    optimizer.zero_grad()\n",
    "\n",
    "    y_pred = model(X)\n",
    "    cost = criterion(y_pred,torch.max(Y, 1)[1])\n",
    "    cost.backward()\n",
    "\n",
    "    optimizer.step()\n",
    "    if t % 200 == 0:\n",
    "        print(t, \"\\ncost : \",cost.data.numpy())"
   ]
  },
  {
   "cell_type": "code",
   "execution_count": 191,
   "metadata": {
    "collapsed": false
   },
   "outputs": [
    {
     "name": "stdout",
     "output_type": "stream",
     "text": [
      "[[ 2.7678273  5.1623898 -4.3310504]] [1]\n",
      "--------------------\n",
      "[[ 1.496608   0.65005   -1.1501126]] [0]\n",
      "--------------------\n",
      "[[-5.6206484  0.7759958  6.515422 ]] [2]\n",
      "--------------------\n",
      "[[ 2.7678268   5.1623893  -4.3310494 ]\n",
      " [ 1.4966078   0.65004975 -1.1501131 ]\n",
      " [-5.6206484   0.7759958   6.515422  ]] [1 0 2]\n"
     ]
    },
    {
     "name": "stderr",
     "output_type": "stream",
     "text": [
      "/Users/Choi-seonyeol/anaconda3/lib/python3.6/site-packages/ipykernel_launcher.py:9: UserWarning: Implicit dimension choice for softmax has been deprecated. Change the call to include dim=X as an argument.\n",
      "  if __name__ == '__main__':\n"
     ]
    }
   ],
   "source": [
    "# Test & one-hot encoding\n",
    "# 새로운 값을 주어주고, 이를 예측하도록 해보기.\n",
    "a = Variable(torch.Tensor([[1,11,7,9]]))\n",
    "a = model(a)\n",
    "print(a.data.numpy(), torch.max(a, 1)[1].data.numpy())\n",
    "\n",
    "print(\"-\"*20)\n",
    "\n",
    "b = Variable(torch.Tensor([[1, 3, 4, 3]]))\n",
    "b = model(b)\n",
    "print(b.data.numpy(), torch.max(b, 1)[1].data.numpy())\n",
    "\n",
    "print(\"-\"*20)\n",
    "\n",
    "c = Variable(torch.Tensor([[1, 1, 0, 1]]))\n",
    "c = model(c)\n",
    "print(c.data.numpy(), torch.max(c, 1)[1].data.numpy())\n",
    "\n",
    "print(\"-\"*20)\n",
    "\n",
    "all = model(Variable(torch.Tensor([[1, 11, 7, 9], [1, 3, 4, 3], [1, 1, 0, 1]])))\n",
    "print(all.data.numpy(), torch.max(all, 1)[1].data.numpy())"
   ]
  },
  {
   "cell_type": "code",
   "execution_count": null,
   "metadata": {
    "collapsed": true
   },
   "outputs": [],
   "source": []
  }
 ],
 "metadata": {
  "kernelspec": {
   "display_name": "Python 3",
   "language": "python",
   "name": "python3"
  },
  "language_info": {
   "codemirror_mode": {
    "name": "ipython",
    "version": 3
   },
   "file_extension": ".py",
   "mimetype": "text/x-python",
   "name": "python",
   "nbconvert_exporter": "python",
   "pygments_lexer": "ipython3",
   "version": "3.6.0"
  }
 },
 "nbformat": 4,
 "nbformat_minor": 2
}
