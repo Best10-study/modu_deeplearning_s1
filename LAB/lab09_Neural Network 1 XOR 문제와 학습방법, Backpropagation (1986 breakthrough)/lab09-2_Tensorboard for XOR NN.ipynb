{
 "cells": [
  {
   "cell_type": "markdown",
   "metadata": {},
   "source": [
    "# 9. Lab09-2_Tensorboard for XOR NN\n",
    "### 2018.09.27(목)"
   ]
  },
  {
   "cell_type": "markdown",
   "metadata": {},
   "source": [
    "## Tensorboard\n",
    "__복잡한 모델에서, 진행상황을 한눈에 볼 수 있게 해주는 것__\n",
    "\n",
    "![lec09_9](../../img/lec09_9.png)\n",
    "\n",
    "graph 가 딥하고, wide 할때 보기 편하다.\n",
    "기존의 우리가 print 해서 보는것보다 훨신 낫다."
   ]
  },
  {
   "cell_type": "markdown",
   "metadata": {},
   "source": [
    "### TensorBoard를 사용하는 방법!\n",
    "1. log를 그릴 tensor를 결정하여 만든다.\n",
    "2. 그 텐서들을 한데 모아줄 summary를 만든다\n",
    "3. 그 로그들을 기록하고, graph를 추가할 writer를 생성한다.\n",
    "4. 이렇게 생성된 summary를 run한 후, 이를 writer를 통해 logging한다.\n",
    "5. terminal 에서 tensorboard --logdir=./logs 를 입력한다.\n",
    "\n",
    "![lec09_10](../../img/lec09_10.png)"
   ]
  },
  {
   "cell_type": "markdown",
   "metadata": {},
   "source": [
    "# 그럼, 이제 실제로 실행시켜 봅시다.\n",
    "\n",
    "## 1.  scalar,Hitogram, Graph등 시각화하고 싶은 tensor 생성\n",
    "![lec09_11](../../img/lec09_11.png)\n",
    "![lec09_12](../../img/lec09_12.png)\n",
    "![lec09_13](../../img/lec09_13.png)\n",
    "\n",
    "이때, name_scope를 사용하여 node들을 쫙 펼쳐서 보지 않고 관련된 것끼리 모아서 묶을 수 있다.\n",
    "\n",
    "--> 각 Layer 별로 정리해서 볼 수 있다."
   ]
  },
  {
   "cell_type": "markdown",
   "metadata": {},
   "source": [
    "### 2, 3 이렇게 만들어진 graph 들을 합쳐주고, session을 열어준다. + log를 기록할 writer 도 생성\n",
    "![lec09_14](../../img/lec09_14.png)\n",
    "\n",
    "\n",
    "### 4.이렇게 만들어진 summary를 실행시켜준다.\n",
    "![lec09_15](../../img/lec09_15.png)\n",
    "\n",
    "### 5. 명령어를 통해 tensorboard를 실행\n",
    "![lec09_16](../../img/lec09_16.png)\n",
    "\n",
    "> 꿀팁 하나.\n",
    "\n",
    "> 만약 이것을 local에서 돌리지 않고 remote해서 돌린다고 하면, tensorboard의 port를 열고 하는 등 복잡하게 되는데, 이를 ssh라는 port forwarding 기법을 써서 remote server를 local_port로 정해줘서 사용이 가능하다.\n",
    "\n",
    "> 아래의 예시는, server의 6006 port를 로컬의 7007포트로 port forwarding 하여 쓰는 것.\n",
    "\n",
    "![lec09_17](../../img/lec09_17.png)\n"
   ]
  },
  {
   "cell_type": "markdown",
   "metadata": {},
   "source": [
    "__만약, 같은 형태의 model을 돌리지만, 다른 옵션으로 돌리고 싶다던가, 값을 두~세개씩 비교하고 싶다면?__\n",
    "\n",
    "### Multiple runs\n",
    "\n",
    "아래 그림과 같이, write하는 부분에서 같은 directory 안에 다른 directory를 만들어 다르게 설정하자.\n",
    "\n",
    "그 다음, 각각의 directory를 모두 포함하는 parent directory를 가지고 tensorboard를 실행시키면 하나의 board에 두 그래프가 그려지게 된다.\n",
    "\n",
    "![lec09_18](../../img/lec09_18.png)"
   ]
  },
  {
   "cell_type": "code",
   "execution_count": null,
   "metadata": {
    "collapsed": true
   },
   "outputs": [],
   "source": []
  }
 ],
 "metadata": {
  "kernelspec": {
   "display_name": "Python 3",
   "language": "python",
   "name": "python3"
  },
  "language_info": {
   "codemirror_mode": {
    "name": "ipython",
    "version": 3
   },
   "file_extension": ".py",
   "mimetype": "text/x-python",
   "name": "python",
   "nbconvert_exporter": "python",
   "pygments_lexer": "ipython3",
   "version": "3.6.0"
  }
 },
 "nbformat": 4,
 "nbformat_minor": 2
}
