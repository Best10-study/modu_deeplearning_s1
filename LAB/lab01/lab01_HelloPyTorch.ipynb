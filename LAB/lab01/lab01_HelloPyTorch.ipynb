{
 "cells": [
  {
   "cell_type": "code",
   "execution_count": 8,
   "metadata": {
    "collapsed": true
   },
   "outputs": [],
   "source": [
    "import torch\n",
    "from torch.autograd import Variable\n",
    "import numpy as np"
   ]
  },
  {
   "cell_type": "markdown",
   "metadata": {},
   "source": [
    "# Hello PyTorch!\n",
    "- PyTorch\n",
    "  - NumPy와 유사하지만 GPU 상에서 실행 가능한 N차원 Tensor\n",
    "  - 신경망을 구성하고 학습하는 과정에서의 자동 미분"
   ]
  },
  {
   "cell_type": "code",
   "execution_count": 11,
   "metadata": {
    "collapsed": false
   },
   "outputs": [
    {
     "data": {
      "text/plain": [
       "tensor([[ 1., -1.],\n",
       "        [ 1., -1.]])"
      ]
     },
     "execution_count": 11,
     "metadata": {},
     "output_type": "execute_result"
    }
   ],
   "source": [
    "# Create a constant op\n",
    "# hello = torch.tensor([\"Hello, PyTorch!\"])\n",
    "# 안타깝게도 torch.tensor로 string을 담는 것은 불가능 한 듯 하다.. 방법을 알고싶지만 딱히 쓸모도 없어보인다.\n",
    "torch.tensor([[1., -1.], [1., -1.]])"
   ]
  },
  {
   "cell_type": "code",
   "execution_count": 12,
   "metadata": {
    "collapsed": false
   },
   "outputs": [
    {
     "data": {
      "text/plain": [
       "tensor([[1, 2, 3],\n",
       "        [4, 5, 6]])"
      ]
     },
     "execution_count": 12,
     "metadata": {},
     "output_type": "execute_result"
    }
   ],
   "source": [
    "torch.tensor(np.array([[1, 2, 3], [4, 5, 6]]))"
   ]
  },
  {
   "cell_type": "code",
   "execution_count": 13,
   "metadata": {
    "collapsed": false
   },
   "outputs": [
    {
     "data": {
      "text/plain": [
       "tensor([[0, 0, 0, 0],\n",
       "        [0, 0, 0, 0]], dtype=torch.int32)"
      ]
     },
     "execution_count": 13,
     "metadata": {},
     "output_type": "execute_result"
    }
   ],
   "source": [
    "torch.zeros([2, 4], dtype=torch.int32)"
   ]
  },
  {
   "cell_type": "code",
   "execution_count": 15,
   "metadata": {
    "collapsed": false
   },
   "outputs": [
    {
     "data": {
      "text/plain": [
       "tensor([1, 1], dtype=torch.int8)"
      ]
     },
     "execution_count": 15,
     "metadata": {},
     "output_type": "execute_result"
    }
   ],
   "source": [
    "torch.ones((2,), dtype=torch.int8)"
   ]
  },
  {
   "cell_type": "code",
   "execution_count": 28,
   "metadata": {
    "collapsed": false
   },
   "outputs": [
    {
     "data": {
      "text/plain": [
       "tensor([[ 0.0931,  0.8606,  0.3115, -0.3715, -0.5687],\n",
       "        [ 0.1927, -0.0988,  1.2197,  1.0181,  0.9426],\n",
       "        [-1.4561,  1.1419,  1.0069, -0.6998, -0.7834]])"
      ]
     },
     "execution_count": 28,
     "metadata": {},
     "output_type": "execute_result"
    }
   ],
   "source": [
    "torch.randn(3, 5)"
   ]
  },
  {
   "cell_type": "markdown",
   "metadata": {},
   "source": [
    "torch에서는 tensorflow 처럼 Node로 flow를 만드는 것이 아니기 때문에, tf.constant()처럼 상수를 node처럼 만드는게 아니라, 그냥 tensor 로 값을 생성한다.\n",
    "그래서 ~~사실 numpy와 매우 유사해 보인다.~~ string을 따로 넣을 필요도 없고, 할수도 없는듯..?\n"
   ]
  },
  {
   "cell_type": "code",
   "execution_count": 27,
   "metadata": {
    "collapsed": false
   },
   "outputs": [
    {
     "name": "stdout",
     "output_type": "stream",
     "text": [
      "1값만 가진 tensor :  1\n",
      "nparray를 가진 tensor :  [[1, 2, 3], [4, 5, 6]]\n"
     ]
    }
   ],
   "source": [
    "print(\"1값만 가진 tensor : \",torch.tensor([1]).item()) # 이때, item()을 통해 tensor로 저장된 값을 풀어주어야 한다.\n",
    "print(\"nparray를 가진 tensor : \",torch.tensor(np.array([[1, 2, 3], [4, 5, 6]])).tolist()) # tolist()를 통해 list로 바꾸어 프린트 가능"
   ]
  },
  {
   "cell_type": "code",
   "execution_count": null,
   "metadata": {
    "collapsed": true
   },
   "outputs": [],
   "source": []
  }
 ],
 "metadata": {
  "kernelspec": {
   "display_name": "Python 3",
   "language": "python",
   "name": "python3"
  },
  "language_info": {
   "codemirror_mode": {
    "name": "ipython",
    "version": 3
   },
   "file_extension": ".py",
   "mimetype": "text/x-python",
   "name": "python",
   "nbconvert_exporter": "python",
   "pygments_lexer": "ipython3",
   "version": "3.6.0"
  }
 },
 "nbformat": 4,
 "nbformat_minor": 2
}
