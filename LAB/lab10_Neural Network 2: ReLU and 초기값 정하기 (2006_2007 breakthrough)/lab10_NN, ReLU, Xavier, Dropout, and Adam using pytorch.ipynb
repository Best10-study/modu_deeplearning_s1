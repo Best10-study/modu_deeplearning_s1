{
 "cells": [
  {
   "cell_type": "markdown",
   "metadata": {},
   "source": [
    "# lab10_NN, ReLU, Xavier, Dropout, and Adam using pytorch\n",
    "\n",
    "Deep NN, ReLU, Xavier, Dropout, Adam 을 모두 구현한 pytorch"
   ]
  },
  {
   "cell_type": "code",
   "execution_count": 18,
   "metadata": {
    "collapsed": true
   },
   "outputs": [],
   "source": [
    "import torch\n",
    "from torch.utils.data import Dataset, DataLoader\n",
    "from torch.autograd import Variable\n",
    "from torch import nn, optim\n",
    "import numpy as np\n",
    "import torchvision.datasets as datasets\n",
    "import torchvision.transforms as transforms\n",
    "import torch.nn.functional as F\n",
    "import torch.nn.init"
   ]
  },
  {
   "cell_type": "code",
   "execution_count": 23,
   "metadata": {
    "collapsed": false
   },
   "outputs": [],
   "source": [
    "#MNIST data\n",
    "mnist_trainset = datasets.MNIST(root = './data',train =True,transform=transforms.ToTensor(),download=True)\n",
    "mnist_testset = datasets.MNIST(root = './data', train = False, transform=transforms.ToTensor(),download=True)"
   ]
  },
  {
   "cell_type": "code",
   "execution_count": 24,
   "metadata": {
    "collapsed": true
   },
   "outputs": [],
   "source": [
    "# hyper parameters\n",
    "training_epochs = 15\n",
    "batch_size = 100\n",
    "keep_drop = 0.7\n",
    "\n",
    "# Data Loader (Input Pipeline)\n",
    "train_loader = DataLoader(dataset=mnist_trainset,\n",
    "                                           batch_size=batch_size,\n",
    "                                           shuffle=True)\n",
    "\n",
    "test_loader = DataLoader(dataset=mnist_testset,\n",
    "                                          batch_size=batch_size,\n",
    "                                          shuffle=False)"
   ]
  },
  {
   "cell_type": "code",
   "execution_count": 27,
   "metadata": {
    "collapsed": false
   },
   "outputs": [
    {
     "ename": "NameError",
     "evalue": "name 'keep_prob' is not defined",
     "output_type": "error",
     "traceback": [
      "\u001b[0;31m-----------------------------------------------------------------------\u001b[0m",
      "\u001b[0;31mNameError\u001b[0m                             Traceback (most recent call last)",
      "\u001b[0;32m<ipython-input-27-f82c1ae516bb>\u001b[0m in \u001b[0;36m<module>\u001b[0;34m()\u001b[0m\n\u001b[1;32m     26\u001b[0m \u001b[0;34m\u001b[0m\u001b[0m\n\u001b[1;32m     27\u001b[0m \u001b[0;34m\u001b[0m\u001b[0m\n\u001b[0;32m---> 28\u001b[0;31m \u001b[0mmodel\u001b[0m \u001b[0;34m=\u001b[0m \u001b[0mModel\u001b[0m\u001b[0;34m(\u001b[0m\u001b[0;34m)\u001b[0m\u001b[0;34m\u001b[0m\u001b[0m\n\u001b[0m\u001b[1;32m     29\u001b[0m \u001b[0mcriterion\u001b[0m \u001b[0;34m=\u001b[0m \u001b[0mtorch\u001b[0m\u001b[0;34m.\u001b[0m\u001b[0mnn\u001b[0m\u001b[0;34m.\u001b[0m\u001b[0mCrossEntropyLoss\u001b[0m\u001b[0;34m(\u001b[0m\u001b[0;34m)\u001b[0m\u001b[0;34m\u001b[0m\u001b[0m\n\u001b[1;32m     30\u001b[0m \u001b[0moptimizer\u001b[0m \u001b[0;34m=\u001b[0m \u001b[0mtorch\u001b[0m\u001b[0;34m.\u001b[0m\u001b[0moptim\u001b[0m\u001b[0;34m.\u001b[0m\u001b[0mAdam\u001b[0m\u001b[0;34m(\u001b[0m\u001b[0mmodel\u001b[0m\u001b[0;34m.\u001b[0m\u001b[0mparameters\u001b[0m\u001b[0;34m(\u001b[0m\u001b[0;34m)\u001b[0m\u001b[0;34m,\u001b[0m \u001b[0mlr\u001b[0m\u001b[0;34m=\u001b[0m\u001b[0;36m0.001\u001b[0m\u001b[0;34m)\u001b[0m\u001b[0;34m\u001b[0m\u001b[0m\n",
      "\u001b[0;32m<ipython-input-27-f82c1ae516bb>\u001b[0m in \u001b[0;36m__init__\u001b[0;34m(self)\u001b[0m\n\u001b[1;32m      2\u001b[0m     \u001b[0;32mdef\u001b[0m \u001b[0m__init__\u001b[0m\u001b[0;34m(\u001b[0m\u001b[0mself\u001b[0m\u001b[0;34m)\u001b[0m\u001b[0;34m:\u001b[0m\u001b[0;34m\u001b[0m\u001b[0m\n\u001b[1;32m      3\u001b[0m         \u001b[0msuper\u001b[0m\u001b[0;34m(\u001b[0m\u001b[0mModel\u001b[0m\u001b[0;34m,\u001b[0m \u001b[0mself\u001b[0m\u001b[0;34m)\u001b[0m\u001b[0;34m.\u001b[0m\u001b[0m__init__\u001b[0m\u001b[0;34m(\u001b[0m\u001b[0;34m)\u001b[0m\u001b[0;34m\u001b[0m\u001b[0m\n\u001b[0;32m----> 4\u001b[0;31m         \u001b[0mself\u001b[0m\u001b[0;34m.\u001b[0m\u001b[0mdropout\u001b[0m \u001b[0;34m=\u001b[0m \u001b[0mtorch\u001b[0m\u001b[0;34m.\u001b[0m\u001b[0mnn\u001b[0m\u001b[0;34m.\u001b[0m\u001b[0mDropout2d\u001b[0m\u001b[0;34m(\u001b[0m\u001b[0mp\u001b[0m \u001b[0;34m=\u001b[0m \u001b[0;36m1\u001b[0m\u001b[0;34m-\u001b[0m\u001b[0mkeep_prob\u001b[0m\u001b[0;34m)\u001b[0m\u001b[0;34m\u001b[0m\u001b[0m\n\u001b[0m\u001b[1;32m      5\u001b[0m \u001b[0;34m\u001b[0m\u001b[0m\n\u001b[1;32m      6\u001b[0m         \u001b[0mself\u001b[0m\u001b[0;34m.\u001b[0m\u001b[0ml1\u001b[0m \u001b[0;34m=\u001b[0m \u001b[0mtorch\u001b[0m\u001b[0;34m.\u001b[0m\u001b[0mnn\u001b[0m\u001b[0;34m.\u001b[0m\u001b[0mLinear\u001b[0m\u001b[0;34m(\u001b[0m\u001b[0;36m784\u001b[0m\u001b[0;34m,\u001b[0m \u001b[0;36m512\u001b[0m\u001b[0;34m,\u001b[0m\u001b[0mbias\u001b[0m \u001b[0;34m=\u001b[0m \u001b[0;32mTrue\u001b[0m\u001b[0;34m)\u001b[0m\u001b[0;34m\u001b[0m\u001b[0m\n",
      "\u001b[0;31mNameError\u001b[0m: name 'keep_prob' is not defined"
     ]
    }
   ],
   "source": [
    "class Model(torch.nn.Module):\n",
    "    def __init__(self):\n",
    "        super(Model, self).__init__()\n",
    "        self.dropout = torch.nn.Dropout2d(p = 1-keep_prob)\n",
    "        \n",
    "        self.l1 = torch.nn.Linear(784, 512,bias = True)\n",
    "        torch.nn.init.xavier_uniform_(self.l1.weight)\n",
    "        self.l2 = torch.nn.Linear(512, 512,bias = True)\n",
    "        torch.nn.init.xavier_uniform_(self.l2.weight)\n",
    "        self.l3 = torch.nn.Linear(512, 512,bias = True)\n",
    "        torch.nn.init.xavier_uniform_(self.l3.weight)\n",
    "        self.l4 = torch.nn.Linear(512, 512,bias = True)\n",
    "        torch.nn.init.xavier_uniform_(self.l4.weight)\n",
    "        self.l5 = torch.nn.Linear(512, 10,bias = True)\n",
    "        torch.nn.init.xavier_uniform_(self.l5.weight)\n",
    "\n",
    "    def forward(self, x):\n",
    "        x = x.view(-1, 784)\n",
    "        output = self.dropout(F.relu(self.l1(x)))\n",
    "        output = self.dropout(F.relu(self.l2(output)))\n",
    "        output = self.dropout(F.relu(self.l3(output)))\n",
    "        output = self.dropout(F.relu(self.l4(output)))\n",
    "        output = self.l5(output)\n",
    "        F.softmax(output,dim = 1)\n",
    "        return output\n",
    "\n",
    "\n",
    "model = Model()\n",
    "criterion = torch.nn.CrossEntropyLoss()\n",
    "optimizer = torch.optim.Adam(model.parameters(), lr=0.001)"
   ]
  },
  {
   "cell_type": "code",
   "execution_count": 26,
   "metadata": {
    "collapsed": false
   },
   "outputs": [
    {
     "name": "stdout",
     "output_type": "stream",
     "text": [
      "Train Epoch: 0\tLoss: 0.307409\n",
      "\n",
      "Test set: Average loss: 0.0011, Accuracy: 9647/10000 (96%)\n",
      "\n",
      "Train Epoch: 1\tLoss: 0.143349\n",
      "\n",
      "Test set: Average loss: 0.0010, Accuracy: 9704/10000 (97%)\n",
      "\n",
      "Train Epoch: 2\tLoss: 0.112172\n",
      "\n",
      "Test set: Average loss: 0.0010, Accuracy: 9726/10000 (97%)\n",
      "\n",
      "Train Epoch: 3\tLoss: 0.093860\n",
      "\n",
      "Test set: Average loss: 0.0008, Accuracy: 9759/10000 (97%)\n",
      "\n",
      "Train Epoch: 4\tLoss: 0.080106\n",
      "\n",
      "Test set: Average loss: 0.0008, Accuracy: 9780/10000 (97%)\n",
      "\n",
      "Train Epoch: 5\tLoss: 0.072789\n",
      "\n",
      "Test set: Average loss: 0.0007, Accuracy: 9804/10000 (98%)\n",
      "\n",
      "Train Epoch: 6\tLoss: 0.068293\n",
      "\n",
      "Test set: Average loss: 0.0007, Accuracy: 9818/10000 (98%)\n",
      "\n",
      "Train Epoch: 7\tLoss: 0.061826\n",
      "\n",
      "Test set: Average loss: 0.0007, Accuracy: 9805/10000 (98%)\n",
      "\n",
      "Train Epoch: 8\tLoss: 0.056961\n",
      "\n",
      "Test set: Average loss: 0.0007, Accuracy: 9826/10000 (98%)\n",
      "\n",
      "Train Epoch: 9\tLoss: 0.056487\n",
      "\n",
      "Test set: Average loss: 0.0008, Accuracy: 9799/10000 (97%)\n",
      "\n",
      "Train Epoch: 10\tLoss: 0.052338\n",
      "\n",
      "Test set: Average loss: 0.0007, Accuracy: 9826/10000 (98%)\n",
      "\n",
      "Train Epoch: 11\tLoss: 0.048183\n",
      "\n",
      "Test set: Average loss: 0.0008, Accuracy: 9816/10000 (98%)\n",
      "\n",
      "Train Epoch: 12\tLoss: 0.050111\n",
      "\n",
      "Test set: Average loss: 0.0008, Accuracy: 9809/10000 (98%)\n",
      "\n",
      "Train Epoch: 13\tLoss: 0.046434\n",
      "\n",
      "Test set: Average loss: 0.0007, Accuracy: 9808/10000 (98%)\n",
      "\n",
      "Train Epoch: 14\tLoss: 0.042913\n",
      "\n",
      "Test set: Average loss: 0.0007, Accuracy: 9829/10000 (98%)\n",
      "\n"
     ]
    }
   ],
   "source": [
    "for epoch in range(training_epochs):\n",
    "    avg_cost = 0\n",
    "    total_batch = int(len(mnist_trainset) / batch_size)\n",
    "    model.train()\n",
    "\n",
    "    for idx, (batch_xs, batch_ys) in enumerate(train_loader):\n",
    "        optimizer.zero_grad()\n",
    "        y_pred = model(batch_xs)\n",
    "        loss = criterion(y_pred, batch_ys)\n",
    "        loss.backward()\n",
    "        optimizer.step()\n",
    "        avg_cost += loss / total_batch\n",
    "    print('\\nTrain Epoch: {}\\tLoss: {:.6f}'.format(epoch, avg_cost))\n",
    "    \n",
    "\n",
    "#         if idx % 10 == 0:\n",
    "#             print('Train Epoch: {} [{}/{} ({:.0f}%)]\\tLoss: {:.6f}'.format(\n",
    "#                 epoch, idx * len(data), len(train_loader.dataset),\n",
    "#                 100. * idx / len(train_loader), loss.data[0]))\n",
    "    # TEST\n",
    "    model.eval()\n",
    "    test_loss = 0\n",
    "    correct = 0\n",
    "    for data, target in test_loader:\n",
    "        data, target = Variable(data), Variable(target)\n",
    "        output = model(data)\n",
    "        test_loss += criterion(output, target).item()\n",
    "        pred = output.data.max(1, keepdim=True)[1]\n",
    "        correct += pred.eq(target.data.view_as(pred)).cpu().sum()\n",
    "    test_loss /= len(test_loader.dataset)\n",
    "    print('Test set: Average loss: {:.4f}, Accuracy: {}/{} ({:.0f}%)\\n'.format(\n",
    "        test_loss, correct, len(test_loader.dataset),\n",
    "        100. * correct / len(test_loader.dataset)))"
   ]
  },
  {
   "cell_type": "code",
   "execution_count": null,
   "metadata": {
    "collapsed": false
   },
   "outputs": [],
   "source": []
  }
 ],
 "metadata": {
  "kernelspec": {
   "display_name": "Python 3",
   "language": "python",
   "name": "python3"
  },
  "language_info": {
   "codemirror_mode": {
    "name": "ipython",
    "version": 3
   },
   "file_extension": ".py",
   "mimetype": "text/x-python",
   "name": "python",
   "nbconvert_exporter": "python",
   "pygments_lexer": "ipython3",
   "version": "3.6.0"
  }
 },
 "nbformat": 4,
 "nbformat_minor": 2
}
