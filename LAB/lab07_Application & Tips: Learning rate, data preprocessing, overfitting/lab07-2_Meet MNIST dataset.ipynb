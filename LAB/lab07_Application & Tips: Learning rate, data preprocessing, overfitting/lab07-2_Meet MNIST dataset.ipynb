{
 "cells": [
  {
   "cell_type": "markdown",
   "metadata": {},
   "source": [
    "# 07. lab07-2_Meet MNIST dataset\n",
    "#### 2018.09.26(수)"
   ]
  },
  {
   "cell_type": "markdown",
   "metadata": {},
   "source": [
    "[MNIST DATA SET](http://yann.lecun.com/exdb/mnist/)\n",
    "\n",
    "MNIST DATA :\n",
    "![lec07_6](../../img/lec07_6.png)\n",
    "X -> Input data : 28 * 27 * 1 데이터로, 총 784개의 x features\n",
    "Y -> Output data : 0 ~ 9 사이의 10가지 class 의 output  값 (  one-hot incoding 으로 출력)"
   ]
  },
  {
   "cell_type": "code",
   "execution_count": 17,
   "metadata": {
    "collapsed": true
   },
   "outputs": [],
   "source": [
    "from tensorflow.examples.tutorials.mnist import input_data\n",
    "# check out https://www.tensorflow.org/get_started/mnist/beginners\n",
    "# for more information about the mnist dataset\n",
    "import tensorflow as tf\n",
    "import matplotlib.pyplot as plt\n",
    "import random\n"
   ]
  },
  {
   "cell_type": "code",
   "execution_count": 3,
   "metadata": {
    "collapsed": false
   },
   "outputs": [
    {
     "name": "stdout",
     "output_type": "stream",
     "text": [
      "WARNING:tensorflow:From <ipython-input-3-758d29429358>:1: read_data_sets (from tensorflow.contrib.learn.python.learn.datasets.mnist) is deprecated and will be removed in a future version.\n",
      "Instructions for updating:\n",
      "Please use alternatives such as official/mnist/dataset.py from tensorflow/models.\n",
      "WARNING:tensorflow:From /Users/Choi-seonyeol/anaconda3/lib/python3.6/site-packages/tensorflow/contrib/learn/python/learn/datasets/mnist.py:260: maybe_download (from tensorflow.contrib.learn.python.learn.datasets.base) is deprecated and will be removed in a future version.\n",
      "Instructions for updating:\n",
      "Please write your own downloading logic.\n",
      "WARNING:tensorflow:From /Users/Choi-seonyeol/anaconda3/lib/python3.6/site-packages/tensorflow/contrib/learn/python/learn/datasets/base.py:252: _internal_retry.<locals>.wrap.<locals>.wrapped_fn (from tensorflow.contrib.learn.python.learn.datasets.base) is deprecated and will be removed in a future version.\n",
      "Instructions for updating:\n",
      "Please use urllib or similar directly.\n",
      "Successfully downloaded train-images-idx3-ubyte.gz 9912422 bytes.\n",
      "WARNING:tensorflow:From /Users/Choi-seonyeol/anaconda3/lib/python3.6/site-packages/tensorflow/contrib/learn/python/learn/datasets/mnist.py:262: extract_images (from tensorflow.contrib.learn.python.learn.datasets.mnist) is deprecated and will be removed in a future version.\n",
      "Instructions for updating:\n",
      "Please use tf.data to implement this functionality.\n",
      "Extracting MNIST_data/train-images-idx3-ubyte.gz\n",
      "Successfully downloaded train-labels-idx1-ubyte.gz 28881 bytes.\n",
      "WARNING:tensorflow:From /Users/Choi-seonyeol/anaconda3/lib/python3.6/site-packages/tensorflow/contrib/learn/python/learn/datasets/mnist.py:267: extract_labels (from tensorflow.contrib.learn.python.learn.datasets.mnist) is deprecated and will be removed in a future version.\n",
      "Instructions for updating:\n",
      "Please use tf.data to implement this functionality.\n",
      "Extracting MNIST_data/train-labels-idx1-ubyte.gz\n",
      "WARNING:tensorflow:From /Users/Choi-seonyeol/anaconda3/lib/python3.6/site-packages/tensorflow/contrib/learn/python/learn/datasets/mnist.py:110: dense_to_one_hot (from tensorflow.contrib.learn.python.learn.datasets.mnist) is deprecated and will be removed in a future version.\n",
      "Instructions for updating:\n",
      "Please use tf.one_hot on tensors.\n",
      "Successfully downloaded t10k-images-idx3-ubyte.gz 1648877 bytes.\n",
      "Extracting MNIST_data/t10k-images-idx3-ubyte.gz\n",
      "Successfully downloaded t10k-labels-idx1-ubyte.gz 4542 bytes.\n",
      "Extracting MNIST_data/t10k-labels-idx1-ubyte.gz\n",
      "WARNING:tensorflow:From /Users/Choi-seonyeol/anaconda3/lib/python3.6/site-packages/tensorflow/contrib/learn/python/learn/datasets/mnist.py:290: DataSet.__init__ (from tensorflow.contrib.learn.python.learn.datasets.mnist) is deprecated and will be removed in a future version.\n",
      "Instructions for updating:\n",
      "Please use alternatives such as official/mnist/dataset.py from tensorflow/models.\n"
     ]
    }
   ],
   "source": [
    "mnist = input_data.read_data_sets(\"MNIST_data/\",one_hot=True)\n",
    "# one-hot = True 로써, data를 가져올때부터 label을 바로 one_hot encoding 해서 가져온다."
   ]
  },
  {
   "cell_type": "code",
   "execution_count": 5,
   "metadata": {
    "collapsed": false
   },
   "outputs": [],
   "source": [
    "## Graph 를 그립시다.\n",
    "\n",
    "nb_classes = 10\n",
    "\n",
    "# MNIST data image of shape 28 * 28 = 784\n",
    "X = tf.placeholder(tf.float32, [None, 784])\n",
    "# 0 ~ 9 digits recognition = 10 classes\n",
    "Y = tf.placeholder(tf.float32, [None, nb_classes])\n",
    "\n",
    "W = tf.Variable(tf.random_normal([784,nb_classes]))\n",
    "b = tf.Variable(tf.random_normal([nb_classes]))"
   ]
  },
  {
   "cell_type": "code",
   "execution_count": 8,
   "metadata": {
    "collapsed": false
   },
   "outputs": [],
   "source": [
    "## Softmax를 이용해서 hypothesis 와 cost, optimizer 를 정의해줍시다.\n",
    "\n",
    "# Hypothesis\n",
    "hypothesis = tf.nn.softmax(tf.matmul(X, W) + b)\n",
    "cost = tf.reduce_mean(-tf.reduce_sum(Y * tf.log(hypothesis), axis = 1))\n",
    "optimizer = tf.train.GradientDescentOptimizer(learning_rate=0.1).minimize(cost)\n",
    "\n",
    "# Test model\n",
    "is_correct = tf.equal(tf.argmax(hypothesis,1),tf.argmax(Y,1))\n",
    "# Calculate accuracy\n",
    "accuracy = tf.reduce_mean(tf.cast(is_correct, tf.float32))"
   ]
  },
  {
   "cell_type": "code",
   "execution_count": 20,
   "metadata": {
    "collapsed": false
   },
   "outputs": [
    {
     "name": "stdout",
     "output_type": "stream",
     "text": [
      "Epoch:  0001 cost =  2.676992187\n",
      "Epoch:  0002 cost =  1.064093301\n",
      "Epoch:  0003 cost =  0.854820394\n",
      "Epoch:  0004 cost =  0.751579758\n",
      "Epoch:  0005 cost =  0.686290494\n",
      "Epoch:  0006 cost =  0.639855327\n",
      "Epoch:  0007 cost =  0.604578194\n",
      "Epoch:  0008 cost =  0.576484465\n",
      "Epoch:  0009 cost =  0.552975061\n",
      "Epoch:  0010 cost =  0.533243109\n",
      "Epoch:  0011 cost =  0.516071770\n",
      "Epoch:  0012 cost =  0.501007883\n",
      "Epoch:  0013 cost =  0.488131788\n",
      "Epoch:  0014 cost =  0.476452169\n",
      "Epoch:  0015 cost =  0.465766417\n",
      "Accuracy:  0.8904\n",
      "Label:  [3]\n",
      "Prediction:  [3]\n"
     ]
    },
    {
     "data": {
      "image/png": "[encoded data removed]",
      "text/plain": [
       "<matplotlib.figure.Figure at 0x127efdfd0>"
      ]
     },
     "metadata": {},
     "output_type": "display_data"
    }
   ],
   "source": [
    "## Training epoch/batch\n",
    "\n",
    "# parameters\n",
    "training_epochs = 15\n",
    "batch_size = 100\n",
    "# batch process 를 위한 parameter : 한번에 100개 데이터씩 학습\n",
    "# epoch -> 1 에폭 : 전체 데이터를 한번 학습시키는 것을 1 에폭이라고 한다.\n",
    "# 하지만, 데이터의 크기가 너무 커서 한번에 학습시키지 못하기 때문에, 우리는 100개씩 잘라서 학습시킨다.\n",
    "# 이를 batch size라고 한다.\n",
    "# 예를 들어서, 전체 데이터가 1000개라고 하고, batch size 가 500이라면, 우리는 전체를 학습시키는데(1 에폭) 두번을 돌려야 한다 .(2 iteration)\n",
    "\n",
    "\n",
    "with tf.Session() as sess:\n",
    "    # Initialize Tensorflow variables\n",
    "    sess.run(tf.global_variables_initializer())\n",
    "    \n",
    "    # Training cycle\n",
    "    for epoch in range(training_epochs):\n",
    "        avg_cost = 0\n",
    "        total_batch = int(mnist.train.num_examples / batch_size)\n",
    "        # 총 iteration할지는, 전체 데이터개수에서 batch_size로 나누어주면 몇번 돌아야할지가 결과값이 나오는것 !\n",
    "        \n",
    "        for i in range(total_batch):\n",
    "            batch_xs, batch_ys = mnist.train.next_batch(batch_size)\n",
    "            c, _ = sess.run([cost, optimizer], feed_dict = {X: batch_xs, Y: batch_ys})\n",
    "            avg_cost += c / total_batch\n",
    "        print(\"Epoch: \", \"%04d\" %(epoch + 1),\"cost = \",\"{:.9f}\".format(avg_cost))\n",
    "    # Test the model using test sets\n",
    "    print(\"Accuracy: \",accuracy.eval(session = sess, feed_dict = {X: mnist.test.images, Y: mnist.test.labels}))\n",
    "    # Accruracy 를 계산하는데는 sess.run을 쓸 수도 있지만, 위와같이 eval 을 쓸 수도 있다.\n",
    "    \n",
    "    # Get one and predict\n",
    "    r = random.randint(0, mnist.test.num_examples - 1) # 어느 랜덤한 test data  하나를 뽑아서\n",
    "    print(\"Label: \", sess.run(tf.argmax(mnist.test.labels[r:r+1],1))) # 그 데이터를 확인해 보면 (argmax는 one-hot encoidng 된 값에서 1의 위치를 뽑아주니까...)\n",
    "    print(\"Prediction: \",sess.run(tf.argmax(hypothesis, 1), feed_dict = {X: mnist.test.images[r:r + 1]})) # 우리가 예측한 값 !\n",
    "    plt.imshow(mnist.test.images[r:r+1].reshape(28,28),cmap = \"Greys\",interpolation = \"nearest\")\n",
    "    plt.show()"
   ]
  },
  {
   "cell_type": "markdown",
   "metadata": {},
   "source": [
    "![lec07_7](../../img/lec07_7.png)\n",
    "\n",
    "데이터가 매우 크기때문에 batch_size로 나누어 학습시킨다.\n",
    "epoch -> 전체 데이터를 한번 다 학습시킨것을 1epoch이라고 한다."
   ]
  },
  {
   "cell_type": "markdown",
   "metadata": {},
   "source": [
    "## Sample image show and prediction"
   ]
  },
  {
   "cell_type": "code",
   "execution_count": null,
   "metadata": {
    "collapsed": true
   },
   "outputs": [],
   "source": [
    "import matplotlib.pyplot as plt\n",
    "import random\n",
    "\n",
    "# Session 이 열려있는 상태에서 할 것...\n",
    "# Get one and predict\n",
    "r = random.randint(0, mnist.test.num_examples - 1)\n",
    "print(\"Label: \", sess.run(tf.argmax(mnist.test.labels[r:r+1],1)))\n",
    "print(\"Prediction: \",sess.run(tf.argmax(hypothesis, 1), feed_dict = {X: mnist.test.images[r:r + 1]}))\n",
    "plt.imshow(mnist.test.images[r:r+1].reshape(28,27),cmap = \"Greys\",interpolaration = \"nearest\")\n",
    "plt.show()"
   ]
  }
 ],
 "metadata": {
  "kernelspec": {
   "display_name": "Python 3",
   "language": "python",
   "name": "python3"
  },
  "language_info": {
   "codemirror_mode": {
    "name": "ipython",
    "version": 3
   },
   "file_extension": ".py",
   "mimetype": "text/x-python",
   "name": "python",
   "nbconvert_exporter": "python",
   "pygments_lexer": "ipython3",
   "version": "3.6.0"
  }
 },
 "nbformat": 4,
 "nbformat_minor": 2
}
