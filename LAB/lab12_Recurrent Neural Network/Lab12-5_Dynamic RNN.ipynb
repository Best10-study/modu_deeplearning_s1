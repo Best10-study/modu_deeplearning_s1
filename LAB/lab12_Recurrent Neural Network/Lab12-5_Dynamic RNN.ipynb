{
 "cells": [
  {
   "cell_type": "markdown",
   "metadata": {},
   "source": [
    "# Lab12-5 Dynamic RNN\n",
    "tensorflow의 새로운 기능 중 하나인 Dynamic RNN\n",
    "<br>\n",
    "<br>\n",
    "RNN의 최대 강점은 Sequence data 를 다룰 수 있다는 것.<br>\n",
    "이전까지는 이러한 sequence data 의 크기가 다 정해져 있었다. 그러나, 실전에서 sequence data를 받다 보면, 정해지지 않을 때가 있다.<br>\n",
    "data의 크기는 항상 가변적. 그래서, RNN은 가변하는 sequence data를 받아들일 수 있어야 한다.\n",
    "<br><br>\n",
    "__how?__\n",
    "<br>\n",
    "기존의 방법으로는, padding 을 주어서 처리했었다. 그런데, 이러한 padding 조차도 weight이 주어져 버리기 때문에, 그 결과가 좋지 않을 수 있다.\n",
    "<br><br>\n",
    "그리하여, 새로운 Tensoflow 에서는 이를 해결하기 위해<br>\n",
    "문자 데이터가 주어졌을 때, 각각의 batch의 문자열의 길이(sequence data 의 크기)를 받아내어 array를 정의하게 함<br>\n",
    "<br>\n",
    "그러면, 이렇게 sequence size에 맞게 만들고, 나머지 weight를 0으로 생성하여 loss가 헷갈리지 않게 한다.\n",
    "![lec12_15](../../img/lec12_15.png)\n"
   ]
  },
  {
   "cell_type": "markdown",
   "metadata": {},
   "source": [
    "## 예시 코드\n"
   ]
  },
  {
   "cell_type": "code",
   "execution_count": 4,
   "metadata": {
    "collapsed": false
   },
   "outputs": [],
   "source": [
    "import tensorflow as tf\n",
    "import numpy as np\n",
    "from tensorflow.contrib import rnn"
   ]
  },
  {
   "cell_type": "code",
   "execution_count": 8,
   "metadata": {
    "collapsed": false
   },
   "outputs": [
    {
     "ename": "TypeError",
     "evalue": "float() argument must be a string or a number, not 'ellipsis'",
     "output_type": "error",
     "traceback": [
      "\u001b[0;31m-----------------------------------------------------------------------\u001b[0m",
      "\u001b[0;31mTypeError\u001b[0m                             Traceback (most recent call last)",
      "\u001b[0;32m<ipython-input-8-c490a36ed124>\u001b[0m in \u001b[0;36m<module>\u001b[0;34m()\u001b[0m\n\u001b[1;32m      1\u001b[0m \u001b[0;31m# 3 batches 'hello', 'eolll', 'lleel'\u001b[0m\u001b[0;34m\u001b[0m\u001b[0;34m\u001b[0m\u001b[0m\n\u001b[0;32m----> 2\u001b[0;31m \u001b[0mx_data\u001b[0m \u001b[0;34m=\u001b[0m \u001b[0mnp\u001b[0m\u001b[0;34m.\u001b[0m\u001b[0marray\u001b[0m\u001b[0;34m(\u001b[0m\u001b[0;34m[\u001b[0m\u001b[0;34m[\u001b[0m\u001b[0;34m[\u001b[0m\u001b[0;34m...\u001b[0m\u001b[0;34m]\u001b[0m\u001b[0;34m]\u001b[0m\u001b[0;34m]\u001b[0m\u001b[0;34m,\u001b[0m \u001b[0mdtype\u001b[0m \u001b[0;34m=\u001b[0m \u001b[0mnp\u001b[0m\u001b[0;34m.\u001b[0m\u001b[0mfloat32\u001b[0m\u001b[0;34m)\u001b[0m\u001b[0;34m\u001b[0m\u001b[0m\n\u001b[0m\u001b[1;32m      3\u001b[0m \u001b[0;34m\u001b[0m\u001b[0m\n\u001b[1;32m      4\u001b[0m \u001b[0mhidden_size\u001b[0m \u001b[0;34m=\u001b[0m \u001b[0;36m2\u001b[0m\u001b[0;34m\u001b[0m\u001b[0m\n\u001b[1;32m      5\u001b[0m \u001b[0mcell\u001b[0m \u001b[0;34m=\u001b[0m \u001b[0mrnn\u001b[0m\u001b[0;34m.\u001b[0m\u001b[0mBasicLSTMCell\u001b[0m\u001b[0;34m(\u001b[0m\u001b[0mnum_units\u001b[0m \u001b[0;34m=\u001b[0m \u001b[0mhidden_size\u001b[0m\u001b[0;34m,\u001b[0m \u001b[0mstate_is_tuple\u001b[0m \u001b[0;34m=\u001b[0m \u001b[0;32mTrue\u001b[0m\u001b[0;34m)\u001b[0m\u001b[0;34m\u001b[0m\u001b[0m\n",
      "\u001b[0;31mTypeError\u001b[0m: float() argument must be a string or a number, not 'ellipsis'"
     ]
    }
   ],
   "source": [
    "# 3 batches 'hello', 'eolll', 'lleel'\n",
    "x_data = np.array([[[...]]], dtype = np.float32)\n",
    "\n",
    "hidden_size = 2\n",
    "cell = rnn.BasicLSTMCell(num_units = hidden_size, state_is_tuple = True)\n",
    "outputs, _states = tf.nn.dynamic_rnn(\n",
    "    cell, x_data, sequence_length = [5,3,4],\n",
    "    # 임의로 sequence length가 5자, 3자, 4자라고 가정해봅시다.\n",
    "    dtype = tf.float32)\n",
    "sess.run(tf.glo)"
   ]
  },
  {
   "cell_type": "markdown",
   "metadata": {},
   "source": [
    "만약 이를 실행시켜보면, 다음 그림과 같이<br>\n",
    "5개의 데이터가 모두 들어갔을 때에는 w, b 값이 다 나오는데, 3개의 데이터만 들어갔을때는 나머지 두개의 열이 0 으로 채워진 것을, 4개의 데이터만 들어갔을때는 나머지 한개의 열이 0으로 채워진 것을 알 수 있다.\n",
    "![lec12_16](../../img/lec12_16.png)"
   ]
  },
  {
   "cell_type": "code",
   "execution_count": null,
   "metadata": {
    "collapsed": true
   },
   "outputs": [],
   "source": []
  }
 ],
 "metadata": {
  "kernelspec": {
   "display_name": "Python 3",
   "language": "python",
   "name": "python3"
  },
  "language_info": {
   "codemirror_mode": {
    "name": "ipython",
    "version": 3
   },
   "file_extension": ".py",
   "mimetype": "text/x-python",
   "name": "python",
   "nbconvert_exporter": "python",
   "pygments_lexer": "ipython3",
   "version": "3.6.0"
  }
 },
 "nbformat": 4,
 "nbformat_minor": 2
}
