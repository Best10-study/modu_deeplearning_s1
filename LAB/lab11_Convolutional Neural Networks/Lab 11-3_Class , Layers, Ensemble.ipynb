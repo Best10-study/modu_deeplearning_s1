{
 "cells": [
  {
   "cell_type": "markdown",
   "metadata": {},
   "source": [
    "# 11. Lab 11-3 Class , Layers, Ensemble\n",
    "### 2018.09.30(일)"
   ]
  },
  {
   "cell_type": "markdown",
   "metadata": {},
   "source": [
    "## Intro\n",
    "\n",
    "Lab 11-1, Lab11-2에서 CNN을 TensorFlow 로 구현하는 것을 배움\n",
    "\n",
    "그런데, 이를 python 으로 Class를 만들어 활용할 수 있다."
   ]
  },
  {
   "cell_type": "markdown",
   "metadata": {},
   "source": [
    "## Python Class 로 Model 구현하기\n"
   ]
  },
  {
   "cell_type": "code",
   "execution_count": 2,
   "metadata": {
    "collapsed": false
   },
   "outputs": [
    {
     "name": "stdout",
     "output_type": "stream",
     "text": [
      "Extracting MNIST_data/train-images-idx3-ubyte.gz\n",
      "Extracting MNIST_data/train-labels-idx1-ubyte.gz\n",
      "Extracting MNIST_data/t10k-images-idx3-ubyte.gz\n",
      "Extracting MNIST_data/t10k-labels-idx1-ubyte.gz\n"
     ]
    }
   ],
   "source": [
    "import tensorflow as tf\n",
    "import numpy as np\n",
    "from tensorflow.examples.tutorials.mnist import input_data\n",
    "mnist = input_data.read_data_sets(\"MNIST_data/\", one_hot=True)"
   ]
  },
  {
   "cell_type": "code",
   "execution_count": 3,
   "metadata": {
    "collapsed": true
   },
   "outputs": [],
   "source": [
    "# hyper parameters\n",
    "learning_rate = 0.001\n",
    "training_epochs = 15\n",
    "batch_size = 100"
   ]
  },
  {
   "cell_type": "code",
   "execution_count": 4,
   "metadata": {
    "collapsed": false
   },
   "outputs": [],
   "source": [
    "# Lab11-2 에서 구현한  Neural Network 를 Model 이라는 Class  로 구현\n",
    "class Model:\n",
    "    def __init__(self, sess, name):\n",
    "        self.sess = sess\n",
    "        self.name = name\n",
    "        self._build_net()\n",
    "    # Instance 생성 즉시 _build_net() 실행\n",
    "    def _build_net(self):\n",
    "        with tf.variable_scope(self.name):\n",
    "            # input placeholders\n",
    "            self.X = tf.placeholder(tf.float32, [None, 784])\n",
    "            # img 28x28x1 (black/white)\n",
    "            x_img = tf.reshape(self.X, [-1,28,28,1])\n",
    "            self.Y = tf.placeholder(tf.float32, [None, 10])\n",
    "            \n",
    "            # L1 ImgIn shape = (?,28,28,1)\n",
    "            W1 = tf.Variable(tf.random_normal([3,3,1,32],stddev=0.01))\n",
    "            L1 = tf.nn.conv2d(x_img, W1, strides=[1, 1, 1, 1], padding='SAME')\n",
    "            L1 = tf.nn.relu(L1)\n",
    "            L1 = tf.nn.max_pool(L1, ksize=[1, 2, 2, 1],strides=[1, 2, 2, 1], padding='SAME')\n",
    "            \n",
    "            # L2 ImgIn shape=(?, 14, 14, 32)\n",
    "            W2 = tf.Variable(tf.random_normal([3, 3, 32, 64], stddev=0.01))\n",
    "            L2 = tf.nn.conv2d(L1, W2, strides=[1, 1, 1, 1], padding='SAME')\n",
    "            L2 = tf.nn.relu(L2)\n",
    "            L2 = tf.nn.max_pool(L2, ksize=[1, 2, 2, 1], strides=[1, 2, 2, 1], padding='SAME')\n",
    "            L2 = tf.reshape(L2, [-1,7*7*64])\n",
    "        \n",
    "            # Final FC 7x7x64 inputs -> 10outputs\n",
    "            W3 = tf.get_variable(\"W3\",shape = [7*7*64,10],initializer = tf.contrib.layers.xavier_initializer_conv2d())\n",
    "            b = tf.Variable(tf.random_normal([10]))\n",
    "            self.hypothesis = tf.matmul(L2, W3) + b\n",
    "            # hypothesis 도출된 결과값 ->  hypothesis 가 됨\n",
    "            \n",
    "        self.cost = tf.reduce_mean(tf.nn.softmax_cross_entropy_with_logits_v2(logits=self.hypothesis, labels=self.Y))\n",
    "        self.optimizer = tf.train.AdamOptimizer(learning_rate=learning_rate).minimize(self.cost)\n",
    "        \n",
    "    def predict(self, x_test):\n",
    "        return self.sess.run(self.logits, feed_dict = {self.X: x_test})\n",
    "    \n",
    "    def get_accuracy(self, x_test, y_test):\n",
    "        return self.sess.run(self.accuracy, feed_dict = {self.X: x_test, self.Y: y_test, self.keep_prob: keep_prop})\n",
    "    def train(self, x_data, y_data):\n",
    "        return self.sess.run([self.cost, self.optimizer], feed_dict = {self.X: x_data, self.Y: y_data})\n",
    "\n",
    "    "
   ]
  },
  {
   "cell_type": "code",
   "execution_count": 6,
   "metadata": {
    "collapsed": false
   },
   "outputs": [
    {
     "name": "stdout",
     "output_type": "stream",
     "text": [
      "Learning Started!\n",
      "0 cost =  0.005760964\n",
      "200 cost =  0.281179057\n",
      "400 cost =  0.355469978\n",
      "Epoch :  0001 cost =  0.390876303\n",
      "0 cost =  0.000209022\n",
      "200 cost =  0.042439802\n",
      "400 cost =  0.080304348\n",
      "Epoch :  0002 cost =  0.104989893\n",
      "0 cost =  0.000146575\n",
      "200 cost =  0.028917404\n",
      "400 cost =  0.055873069\n",
      "Epoch :  0003 cost =  0.076718765\n",
      "0 cost =  0.000102903\n",
      "200 cost =  0.022107135\n",
      "400 cost =  0.046871091\n",
      "Epoch :  0004 cost =  0.063688640\n",
      "0 cost =  0.000051409\n",
      "200 cost =  0.020386087\n",
      "400 cost =  0.040524266\n",
      "Epoch :  0005 cost =  0.054968983\n",
      "0 cost =  0.000079861\n",
      "200 cost =  0.017327518\n",
      "400 cost =  0.034319726\n",
      "Epoch :  0006 cost =  0.047693357\n",
      "0 cost =  0.000099293\n",
      "200 cost =  0.014709356\n",
      "400 cost =  0.030269045\n",
      "Epoch :  0007 cost =  0.042150593\n",
      "0 cost =  0.000018267\n",
      "200 cost =  0.012889810\n",
      "400 cost =  0.025626990\n",
      "Epoch :  0008 cost =  0.036611897\n",
      "0 cost =  0.000033029\n",
      "200 cost =  0.011522821\n",
      "400 cost =  0.024854334\n",
      "Epoch :  0009 cost =  0.033021194\n",
      "0 cost =  0.000043532\n",
      "200 cost =  0.009875815\n",
      "400 cost =  0.020782218\n",
      "Epoch :  0010 cost =  0.028813537\n",
      "0 cost =  0.000030517\n",
      "200 cost =  0.008484814\n",
      "400 cost =  0.018354791\n",
      "Epoch :  0011 cost =  0.026655354\n",
      "0 cost =  0.000014513\n",
      "200 cost =  0.006953471\n",
      "400 cost =  0.015340829\n",
      "Epoch :  0012 cost =  0.022315455\n",
      "0 cost =  0.000012170\n",
      "200 cost =  0.007288490\n",
      "400 cost =  0.014906846\n",
      "Epoch :  0013 cost =  0.020423895\n",
      "0 cost =  0.000003154\n",
      "200 cost =  0.005030095\n",
      "400 cost =  0.012072083\n",
      "Epoch :  0014 cost =  0.018031490\n",
      "0 cost =  0.000036610\n",
      "200 cost =  0.004774850\n",
      "400 cost =  0.011470154\n",
      "Epoch :  0015 cost =  0.016065267\n",
      "Learning Finished!\n"
     ]
    }
   ],
   "source": [
    "# initialize\n",
    "sess = tf.Session()\n",
    "m1 = Model(sess, \"m1\")\n",
    "sess.run(tf.global_variables_initializer())\n",
    "print(\"Learning Started!\")\n",
    "\n",
    "# train my model\n",
    "for epoch in range(training_epochs):\n",
    "    avg_cost = 0\n",
    "    total_batch = int(mnist.train.num_examples / batch_size)\n",
    "    \n",
    "    for i in range(total_batch):\n",
    "        batch_xs, batch_ys = mnist.train.next_batch(batch_size)\n",
    "        c, _ = m1.train(batch_xs, batch_ys)\n",
    "        avg_cost += c / total_batch\n",
    "        if i % 200 == 0:\n",
    "            print(i, \"cost = \", \"{:.9f}\".format(avg_cost))\n",
    "    print(\"Epoch : \", \"%04d\" % (epoch + 1), \"cost = \", \"{:.9f}\".format(avg_cost))\n",
    "print(\"Learning Finished!\")"
   ]
  },
  {
   "cell_type": "markdown",
   "metadata": {},
   "source": [
    "## Tensorflow 의 layers   라는 Library  를 이용\n",
    "![lec11_30](../../img/lec11_30.png)\n",
    "\n",
    "이를 이용한다면, 숫자가 많이 나와서 복잡하게 계산해야 했던 것을 아주 단순하고 빠르게 처리할 수 있다.\n",
    "\n",
    "--> High level  (많은 것들을 이미 구현한) 의 library\n",
    "\n",
    "(ex. layers.dense 는 fully connected layer를 한번에 구현해 준다.)"
   ]
  },
  {
   "cell_type": "code",
   "execution_count": null,
   "metadata": {
    "collapsed": true
   },
   "outputs": [],
   "source": [
    "class Model:\n",
    "    def __init__(self, sess, name):\n",
    "        self.sess = sess\n",
    "        self.name = name\n",
    "        self._build_net()\n",
    "\n",
    "    def _build_net(self):\n",
    "        with tf.variable_scope(self.name):\n",
    "            # dropout (keep_prob) rate  0.7~0.5 on training, but should be 1\n",
    "            # for testing\n",
    "            self.training = tf.placeholder(tf.bool)\n",
    "\n",
    "            # input place holders\n",
    "            self.X = tf.placeholder(tf.float32, [None, 784])\n",
    "\n",
    "            # img 28x28x1 (black/white), Input Layer\n",
    "            X_img = tf.reshape(self.X, [-1, 28, 28, 1])\n",
    "            self.Y = tf.placeholder(tf.float32, [None, 10])\n",
    "\n",
    "            # Layer #1\n",
    "            conv1 = tf.layers.conv2d(inputs=X_img, filters=32, kernel_size=[3, 3],padding=\"SAME\", activation=tf.nn.relu)\n",
    "            # filter 의 개수와 kernel size를 각각 주고, reLU 임을 같이 준다.\n",
    "            pool1 = tf.layers.max_pooling2d(inputs=conv1, pool_size=[2, 2],padding=\"SAME\", strides=2)\n",
    "            dropout1 = tf.layers.dropout(inputs=pool1,rate=0.3, training=self.training)\n",
    "            # dropout의 경우, training이 만약 False로 잡힌다면 keep_prob는 자동으로 1이되어 문제를 예방해놧다.\n",
    "            \n",
    "            #  Layer #2\n",
    "            conv2 = tf.layers.conv2d(inputs=dropout1, filters=64, kernel_size=[3, 3],padding=\"SAME\", activation=tf.nn.relu)\n",
    "            pool2 = tf.layers.max_pooling2d(inputs=conv2, pool_size=[2, 2],padding=\"SAME\", strides=2)\n",
    "            dropout2 = tf.layers.dropout(inputs=pool2,rate=0.3, training=self.training)\n",
    "\n",
    "            # Layer #3\n",
    "            conv3 = tf.layers.conv2d(inputs=dropout2, filters=128, kernel_size=[3, 3], padding=\"same\", activation=tf.nn.relu)\n",
    "            pool3 = tf.layers.max_pooling2d(inputs=conv3, pool_size=[2, 2],padding=\"same\", strides=2)\n",
    "            dropout3 = tf.layers.dropout(inputs=pool3,rate=0.3, training=self.training)\n",
    "\n",
    "            # Dense Layer with Relu\n",
    "            flat = tf.reshape(dropout3, [-1, 128 * 4 * 4])\n",
    "            dense4 = tf.layers.dense(inputs=flat,units=625, activation=tf.nn.relu)\n",
    "            dropout4 = tf.layers.dropout(inputs=dense4, rate=0.5, training=self.training)\n",
    "            # dense 라는 함수 한번에 fullyconected layer를 한번에 끝냄\n",
    "            \n",
    "            # Logits (no activation) Layer: L5 Final FC 625 inputs -> 10 outputs\n",
    "            self.logits = tf.layers.dense(inputs=dropout4, units=10)\n",
    "\n",
    "        # define cost/loss & optimizer\n",
    "        self.cost = tf.reduce_mean(tf.nn.softmax_cross_entropy_with_logits(logits=self.logits, labels=self.Y))\n",
    "        self.optimizer = tf.train.AdamOptimizer(learning_rate=learning_rate).minimize(self.cost)\n",
    "\n",
    "        correct_prediction = tf.equal(tf.argmax(self.logits, 1), tf.argmax(self.Y, 1))\n",
    "        self.accuracy = tf.reduce_mean(tf.cast(correct_prediction, tf.float32))\n",
    "\n",
    "    def predict(self, x_test, training=False):\n",
    "        return self.sess.run(self.logits,feed_dict={self.X: x_test, self.training: training})\n",
    "\n",
    "    def get_accuracy(self, x_test, y_test, training=False):\n",
    "        return self.sess.run(self.accuracy,feed_dict={self.X: x_test,self.Y: y_test, self.training: training})\n",
    "\n",
    "    def train(self, x_data, y_data, training=True):\n",
    "        return self.sess.run([self.cost, self.optimizer], feed_dict={self.X: x_data, self.Y: y_data, self.training: training})\n"
   ]
  },
  {
   "cell_type": "markdown",
   "metadata": {},
   "source": [
    "# Ensemble\n",
    "여러개의 모델을 조합해서 더 나은 모델을 만들어 사용\n",
    "\n",
    "여러개의 독립된 모델을  training하여, New data가 나오면 각각의 모델에서 prediction 하여, 그 예측 결과를 meta-classifier하여 결과를 도출\n",
    "\n",
    "-> 상당히 우수한 결과가 나옴\n",
    "\n",
    "![lec11_31](../../img/lec11_31.png)"
   ]
  },
  {
   "cell_type": "markdown",
   "metadata": {},
   "source": [
    "### Ensemble training\n",
    "#### 앞서 만든  Model을 사용해야 한다."
   ]
  },
  {
   "cell_type": "code",
   "execution_count": 7,
   "metadata": {
    "collapsed": true
   },
   "outputs": [],
   "source": [
    "# initialize\n",
    "sess = tf.Session()\n",
    "\n",
    "models = []\n",
    "#각각 만든 model을 저장하는 list를 만든다.\n",
    "num_models = 7\n",
    "for m in range(num_models):\n",
    "    models.append(Model(sess, \"model\" + str(m))) #model을 만들어 list에 각각 저장\n",
    "sess.run(tf.global_variables_initializer())\n"
   ]
  },
  {
   "cell_type": "code",
   "execution_count": 8,
   "metadata": {
    "collapsed": false
   },
   "outputs": [
    {
     "name": "stdout",
     "output_type": "stream",
     "text": [
      "Learning Started!\n",
      "Epoch: 0001 cost = [0.34042073 0.37761572]\n",
      "Epoch: 0002 cost = [0.09855702 0.10618883]\n",
      "Epoch: 0003 cost = [0.07170656 0.07652393]\n",
      "Epoch: 0004 cost = [0.05833044 0.06238911]\n",
      "Epoch: 0005 cost = [0.0498276  0.05185397]\n",
      "Epoch: 0006 cost = [0.04443941 0.04674543]\n",
      "Epoch: 0007 cost = [0.03894265 0.03983511]\n",
      "Epoch: 0008 cost = [0.03400787 0.03524532]\n",
      "Epoch: 0009 cost = [0.03064473 0.03137245]\n",
      "Epoch: 0010 cost = [0.02726805 0.02802383]\n",
      "Epoch: 0011 cost = [0.02517654 0.02531697]\n",
      "Epoch: 0012 cost = [0.02163124 0.0220168 ]\n",
      "Epoch: 0013 cost = [0.02018246 0.02086042]\n",
      "Epoch: 0014 cost = [0.01681946 0.01780215]\n",
      "Epoch: 0015 cost = [0.01333212 0.01410609]\n",
      "Learning Finished!\n"
     ]
    }
   ],
   "source": [
    "print('Learning Started!')\n",
    "\n",
    "# train my model\n",
    "for epoch in range(training_epochs):\n",
    "    avg_cost_list = np.zeros(len(models))\n",
    "    total_batch = int(mnist.train.num_examples / batch_size)\n",
    "    for i in range(total_batch):\n",
    "        # 동일한 batch를 가지고학습시킨다.\n",
    "        batch_xs, batch_ys = mnist.train.next_batch(batch_size)\n",
    "\n",
    "        # train each model\n",
    "        # 기존에는 모델을 하나씩 학습시켰었는데, 이제는 모델을 각각 학습시킨다.(동일한 데이터로)\n",
    "        for m_idx, m in enumerate(models):\n",
    "            c, _ = m.train(batch_xs, batch_ys)\n",
    "            avg_cost_list[m_idx] += c / total_batch\n",
    "\n",
    "    print('Epoch:', '%04d' % (epoch + 1), 'cost =', avg_cost_list)\n",
    "\n",
    "print('Learning Finished!')\n"
   ]
  },
  {
   "cell_type": "markdown",
   "metadata": {},
   "source": [
    "### 학습의 결과로 각각 다른 7개의 model 이 생성될 것.\n",
    "\n",
    "__이렇게 도출된 model 을 합치는 방법은 여러가지가 있지만, 여기서는 다 합치는 방법으로 구현할 것.__\n",
    "\n",
    "1. 구현된 모델들은 각각 softmax로 구현되어있다.\n",
    "2. 그 softmax는 각각의 label별로 확률을 뽑아내는 것 ( ex. 0이 될 확률 ~ 1이되 확률 ~ ...)\n",
    "3. 모델 각각은 그 확률들을 다르게 계산했을 것.\n",
    "4. 그러면, 그 확률들을 합쳐준다. (ex. 모델별로 각각 0이 될 확률의 합, ... )\n",
    "5. 우리는  그 중에서 argmax로 가장 큰 값을 선택하겠다는 간단한 아이디어\n",
    "![lec11_32](../../img/lec11_32.png)"
   ]
  },
  {
   "cell_type": "code",
   "execution_count": null,
   "metadata": {
    "collapsed": true
   },
   "outputs": [],
   "source": [
    "# Test model and check accuracy\n",
    "test_size = len(mnist.test.labels)\n",
    "predictions = np.zeros([test_size, 10]) # -> 예측의 결과값을 저장할 list를 만들어 준다. : testset의 data각각, hot-one encoding 의 결과를 저장\n",
    "\n",
    "for m_idx, m in enumerate(models): # loop를 돌며 model을 하나씩 꺼내어 test의 accuracy를 print\n",
    "    print(m_idx, 'Accuracy:', m.get_accuracy(mnist.test.images, mnist.test.labels))\n",
    "    p = m.predict(mnist.test.images)\n",
    "    predictions += p # 예측한 확률들을 다 더해준다. : prediction에는 최종 합이 된 값을 저장\n",
    "\n",
    "ensemble_correct_prediction = tf.equal(tf.argmax(predictions, 1), tf.argmax(mnist.test.labels, 1))\n",
    "ensemble_accuracy = tf.reduce_mean(tf.cast(ensemble_correct_prediction, tf.float32))\n",
    "print('Ensemble accuracy:', sess.run(ensemble_accuracy))ㅡ\n"
   ]
  },
  {
   "cell_type": "markdown",
   "metadata": {},
   "source": [
    "### 결과를 보면, 각각의 model에서 예측한 Accuracy보다 더 높은 정확도를 갖는 Ensemble 모델이 도출되는 것을 알 수 있다."
   ]
  }
 ],
 "metadata": {
  "kernelspec": {
   "display_name": "Python 3",
   "language": "python",
   "name": "python3"
  },
  "language_info": {
   "codemirror_mode": {
    "name": "ipython",
    "version": 3
   },
   "file_extension": ".py",
   "mimetype": "text/x-python",
   "name": "python",
   "nbconvert_exporter": "python",
   "pygments_lexer": "ipython3",
   "version": "3.6.0"
  }
 },
 "nbformat": 4,
 "nbformat_minor": 2
}
