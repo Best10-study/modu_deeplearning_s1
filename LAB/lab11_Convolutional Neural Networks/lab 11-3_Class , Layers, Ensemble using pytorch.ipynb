{
 "cells": [
  {
   "cell_type": "markdown",
   "metadata": {},
   "source": [
    "# lab 11-3_Class , Layers, Ensemble using pytorch\n",
    "1. model Class를 더욱 체계적이고 견고하게 짜봅시다.<br>\n",
    "2. Layer를 Sequential 로 더 이쁘게 구축하기<br>\n",
    "3. 도출된 여러개의 model을 짬뽕하여 하나의 model로 만드는 Ensemble 이용"
   ]
  },
  {
   "cell_type": "code",
   "execution_count": 103,
   "metadata": {
    "collapsed": true
   },
   "outputs": [],
   "source": [
    "import torch\n",
    "from torch.utils.data import Dataset, DataLoader\n",
    "from torch.autograd import Variable\n",
    "from torch import nn, optim\n",
    "import numpy as np\n",
    "import torchvision.datasets as datasets\n",
    "import torchvision.transforms as transforms\n",
    "import torch.nn.functional as F\n",
    "import torch.nn.init"
   ]
  },
  {
   "cell_type": "code",
   "execution_count": 104,
   "metadata": {
    "collapsed": true
   },
   "outputs": [],
   "source": [
    "#MNIST data\n",
    "mnist_trainset = datasets.MNIST(root = './data',train =True,transform=transforms.ToTensor(),download=True)\n",
    "mnist_testset = datasets.MNIST(root = './data', train = False, transform=transforms.ToTensor(),download=True)"
   ]
  },
  {
   "cell_type": "code",
   "execution_count": 105,
   "metadata": {
    "collapsed": true
   },
   "outputs": [],
   "source": [
    "# hyper parameters\n",
    "learning_rate = 0.001\n",
    "training_epochs = 15\n",
    "batch_size = 100\n",
    "keep_prob = 0.7\n",
    "\n",
    "# Data Loader (Input Pipeline)\n",
    "train_loader = DataLoader(dataset=mnist_trainset,\n",
    "                                           batch_size=batch_size,\n",
    "                                           shuffle=True)\n",
    "\n",
    "test_loader = DataLoader(dataset=mnist_testset,\n",
    "                                          batch_size=batch_size,\n",
    "                                          shuffle=False)"
   ]
  },
  {
   "cell_type": "code",
   "execution_count": 106,
   "metadata": {
    "collapsed": false
   },
   "outputs": [],
   "source": [
    "class Model(nn.Module):\n",
    "    def __init__(self,name):\n",
    "        super(Model, self).__init__()\n",
    "        self._build_net()\n",
    "        self.name = name\n",
    "        self.criterion = nn.CrossEntropyLoss()\n",
    "        self.optimizer = optim.Adam(self.parameters(), lr=learning_rate)\n",
    "        \n",
    "    # Instance 생성 즉시 _build_net() 실행\n",
    "    def _build_net(self):\n",
    "        # Layer #1\n",
    "        self.layer1 = nn.Sequential(nn.Conv2d(1,32,kernel_size = 3, stride = 1, padding =1),\n",
    "                                    nn.ReLU(),\n",
    "                                   nn.MaxPool2d(kernel_size = 2, stride =2),\n",
    "                                    nn.Dropout(p = 1- keep_prob)\n",
    "                                   )\n",
    "        # Layer #2\n",
    "        self.layer2 = nn.Sequential(nn.Conv2d(32,64,kernel_size = 3, stride = 1, padding =1),\n",
    "                                    nn.ReLU(),\n",
    "                                   nn.MaxPool2d(kernel_size = 2, stride =2),\n",
    "                                    nn.Dropout(p = 1- keep_prob)\n",
    "                                   )        \n",
    "        # Layer #3\n",
    "        self.layer3 = nn.Sequential(nn.Conv2d(64,128,kernel_size = 3, stride = 1, padding =1),\n",
    "                                    nn.ReLU(),\n",
    "                                   nn.MaxPool2d(kernel_size = 2, stride =2, padding = 1),\n",
    "                                    nn.Dropout(p = 1- keep_prob)\n",
    "                                   ) \n",
    "        # FC Layer #1\n",
    "        self.fc1_ = nn.Linear(4*4*128, 625, bias = True)\n",
    "        nn.init.xavier_uniform_(self.fc1_.weight)\n",
    "        self.fc1 = nn.Sequential(self.fc1_,\n",
    "                                 nn.ReLU(),\n",
    "                                   nn.Dropout(p = 0.5))\n",
    "        # FC Layer #2 # Logits (no activation) Layer: L5 Final FC 625 inputs -> 10 outputs\n",
    "        self.fc2 = nn.Linear(625, 10, bias = True)\n",
    "        nn.init.xavier_uniform_(self.fc2.weight)\n",
    "   \n",
    "        \n",
    "    def forward(self, x):\n",
    "        \n",
    "        output = self.layer1(x)\n",
    "        output = self.layer2(output)\n",
    "        output = self.layer3(output)\n",
    "        in_size = output.size(0)\n",
    "        output = output.view(in_size,-1)\n",
    "        output = self.fc1(output)\n",
    "        output = self.fc2(output)\n",
    "        return F.log_softmax(output,dim = 1)\n",
    "        \n",
    "    def predict(self, x_test):\n",
    "        self.eval()\n",
    "        \n",
    "        return self.forward(x_test)\n",
    "    \n",
    "    def get_accuracy(self, x_test, y_test):\n",
    "        y_pred = self.predict(x_test)\n",
    "        return y_pred, self.criterion(y_pred,y_test).item()\n",
    "    def train_data(self, x_data, y_data):\n",
    "        self.train()\n",
    "        self.optimizer.zero_grad()\n",
    "        y_pred = self.forward(batch_xs)\n",
    "        loss = self.criterion(y_pred,y_data)\n",
    "        loss.backward()\n",
    "        self.optimizer.step()\n",
    "        return loss, self.optimizer"
   ]
  },
  {
   "cell_type": "code",
   "execution_count": 107,
   "metadata": {
    "collapsed": false
   },
   "outputs": [],
   "source": [
    "model = Model(\"CNN\")"
   ]
  },
  {
   "cell_type": "code",
   "execution_count": null,
   "metadata": {
    "collapsed": false
   },
   "outputs": [
    {
     "name": "stdout",
     "output_type": "stream",
     "text": [
      "\n",
      "Train Epoch: 0\tLoss: 0.298433\n",
      "Test set: Average loss: 0.0005, Accuracy: 9849/10000 (98%)\n",
      "\n",
      "\n",
      "Train Epoch: 1\tLoss: 0.085517\n",
      "Test set: Average loss: 0.0003, Accuracy: 9892/10000 (98%)\n",
      "\n"
     ]
    }
   ],
   "source": [
    "for epoch in range(training_epochs):\n",
    "    # Train\n",
    "    avg_cost = 0\n",
    "    total_batch = int(len(mnist_trainset) / batch_size)\n",
    "\n",
    "    for idx, (batch_xs, batch_ys) in enumerate(train_loader):\n",
    "        \n",
    "        loss, optimizer = model.train_data(batch_xs,batch_ys)\n",
    "        avg_cost += loss / total_batch\n",
    "    print('\\nTrain Epoch: {}\\tLoss: {:.6f}'.format(epoch, avg_cost))\n",
    "    \n",
    "    # TEST\n",
    "    test_loss = 0\n",
    "    correct = 0\n",
    "    for data, target in test_loader:\n",
    "        data, target = Variable(data), Variable(target)\n",
    "        output,acc = model.get_accuracy(data, target)\n",
    "        test_loss += acc\n",
    "        pred = output.data.max(1, keepdim=True)[1]\n",
    "        correct += pred.eq(target.data.view_as(pred)).cpu().sum()\n",
    "    test_loss /= len(test_loader.dataset)\n",
    "    \n",
    "    # print eval\n",
    "    print('Test set: Average loss: {:.4f}, Accuracy: {}/{} ({:.0f}%)\\n'.format(\n",
    "        test_loss, correct, len(test_loader.dataset),\n",
    "        100. * correct / len(test_loader.dataset)))"
   ]
  },
  {
   "cell_type": "code",
   "execution_count": null,
   "metadata": {
    "collapsed": true
   },
   "outputs": [],
   "source": []
  },
  {
   "cell_type": "code",
   "execution_count": null,
   "metadata": {
    "collapsed": true
   },
   "outputs": [],
   "source": []
  }
 ],
 "metadata": {
  "kernelspec": {
   "display_name": "Python 3",
   "language": "python",
   "name": "python3"
  },
  "language_info": {
   "codemirror_mode": {
    "name": "ipython",
    "version": 3
   },
   "file_extension": ".py",
   "mimetype": "text/x-python",
   "name": "python",
   "nbconvert_exporter": "python",
   "pygments_lexer": "ipython3",
   "version": "3.6.0"
  }
 },
 "nbformat": 4,
 "nbformat_minor": 2
}
